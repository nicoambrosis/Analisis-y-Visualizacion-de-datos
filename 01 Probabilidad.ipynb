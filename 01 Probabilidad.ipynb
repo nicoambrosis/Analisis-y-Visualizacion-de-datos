{
 "cells": [
  {
   "cell_type": "code",
   "execution_count": 1,
   "metadata": {},
   "outputs": [],
   "source": [
    "# libraries\n",
    "import matplotlib\n",
    "import matplotlib.pyplot as plt\n",
    "import numpy as np\n",
    "import pandas as pd\n",
    "import seaborn as sns"
   ]
  },
  {
   "cell_type": "code",
   "execution_count": 101,
   "metadata": {},
   "outputs": [
    {
     "data": {
      "text/html": [
       "<div>\n",
       "<style scoped>\n",
       "    .dataframe tbody tr th:only-of-type {\n",
       "        vertical-align: middle;\n",
       "    }\n",
       "\n",
       "    .dataframe tbody tr th {\n",
       "        vertical-align: top;\n",
       "    }\n",
       "\n",
       "    .dataframe thead th {\n",
       "        text-align: right;\n",
       "    }\n",
       "</style>\n",
       "<table border=\"1\" class=\"dataframe\">\n",
       "  <thead>\n",
       "    <tr style=\"text-align: right;\">\n",
       "      <th></th>\n",
       "      <th>work_province</th>\n",
       "      <th>work_contract_type</th>\n",
       "      <th>salary_monthly_BRUTO</th>\n",
       "      <th>salary_monthly_NETO</th>\n",
       "      <th>salary_in_usd</th>\n",
       "      <th>salary_last_dollar_value</th>\n",
       "      <th>salary_satisfaction</th>\n",
       "      <th>salary_comparison_last_semester</th>\n",
       "      <th>salary_has_bonus</th>\n",
       "      <th>salary_bonus_tied_to</th>\n",
       "      <th>...</th>\n",
       "      <th>work_listen_more_men</th>\n",
       "      <th>profile_has_disabilities</th>\n",
       "      <th>profile_has_disabilities_hiring_difficulties</th>\n",
       "      <th>work_lastyear_discrimination</th>\n",
       "      <th>¿Salir o seguir contestando?.3</th>\n",
       "      <th>company_days_in_the_office</th>\n",
       "      <th>company_pandemic_support</th>\n",
       "      <th>company_new_benefits</th>\n",
       "      <th>profile_age</th>\n",
       "      <th>profile_gender</th>\n",
       "    </tr>\n",
       "  </thead>\n",
       "  <tbody>\n",
       "    <tr>\n",
       "      <th>0</th>\n",
       "      <td>Catamarca</td>\n",
       "      <td>Tercerizado (trabajo a través de consultora o ...</td>\n",
       "      <td>207000</td>\n",
       "      <td>150000.0</td>\n",
       "      <td>NaN</td>\n",
       "      <td>NaN</td>\n",
       "      <td>2</td>\n",
       "      <td>1</td>\n",
       "      <td>No</td>\n",
       "      <td>No recibo bono</td>\n",
       "      <td>...</td>\n",
       "      <td>NaN</td>\n",
       "      <td>NaN</td>\n",
       "      <td>NaN</td>\n",
       "      <td>NaN</td>\n",
       "      <td>NaN</td>\n",
       "      <td>NaN</td>\n",
       "      <td>NaN</td>\n",
       "      <td>NaN</td>\n",
       "      <td>34</td>\n",
       "      <td>Varón Cis</td>\n",
       "    </tr>\n",
       "    <tr>\n",
       "      <th>1</th>\n",
       "      <td>Catamarca</td>\n",
       "      <td>Full-Time</td>\n",
       "      <td>130000</td>\n",
       "      <td>99000.0</td>\n",
       "      <td>NaN</td>\n",
       "      <td>NaN</td>\n",
       "      <td>3</td>\n",
       "      <td>4</td>\n",
       "      <td>Un sueldo</td>\n",
       "      <td>Performance de la compañía</td>\n",
       "      <td>...</td>\n",
       "      <td>NaN</td>\n",
       "      <td>NaN</td>\n",
       "      <td>NaN</td>\n",
       "      <td>NaN</td>\n",
       "      <td>NaN</td>\n",
       "      <td>NaN</td>\n",
       "      <td>NaN</td>\n",
       "      <td>NaN</td>\n",
       "      <td>35</td>\n",
       "      <td>Varón Cis</td>\n",
       "    </tr>\n",
       "    <tr>\n",
       "      <th>2</th>\n",
       "      <td>Catamarca</td>\n",
       "      <td>Full-Time</td>\n",
       "      <td>185000</td>\n",
       "      <td>145000.0</td>\n",
       "      <td>Mi sueldo está dolarizado (pero cobro en moned...</td>\n",
       "      <td>100</td>\n",
       "      <td>2</td>\n",
       "      <td>2</td>\n",
       "      <td>De uno a tres sueldos</td>\n",
       "      <td>Performance grupal</td>\n",
       "      <td>...</td>\n",
       "      <td>NaN</td>\n",
       "      <td>NaN</td>\n",
       "      <td>NaN</td>\n",
       "      <td>NaN</td>\n",
       "      <td>NaN</td>\n",
       "      <td>NaN</td>\n",
       "      <td>NaN</td>\n",
       "      <td>NaN</td>\n",
       "      <td>26</td>\n",
       "      <td>Varón Trans</td>\n",
       "    </tr>\n",
       "    <tr>\n",
       "      <th>3</th>\n",
       "      <td>Catamarca</td>\n",
       "      <td>Full-Time</td>\n",
       "      <td>70000</td>\n",
       "      <td>60000.0</td>\n",
       "      <td>NaN</td>\n",
       "      <td>NaN</td>\n",
       "      <td>3</td>\n",
       "      <td>3</td>\n",
       "      <td>No</td>\n",
       "      <td>No recibo bono</td>\n",
       "      <td>...</td>\n",
       "      <td>NaN</td>\n",
       "      <td>NaN</td>\n",
       "      <td>NaN</td>\n",
       "      <td>NaN</td>\n",
       "      <td>NaN</td>\n",
       "      <td>NaN</td>\n",
       "      <td>NaN</td>\n",
       "      <td>NaN</td>\n",
       "      <td>33</td>\n",
       "      <td>Varón Cis</td>\n",
       "    </tr>\n",
       "    <tr>\n",
       "      <th>4</th>\n",
       "      <td>Catamarca</td>\n",
       "      <td>Full-Time</td>\n",
       "      <td>90000</td>\n",
       "      <td>74700.0</td>\n",
       "      <td>NaN</td>\n",
       "      <td>NaN</td>\n",
       "      <td>3</td>\n",
       "      <td>2</td>\n",
       "      <td>No</td>\n",
       "      <td>No recibo bono</td>\n",
       "      <td>...</td>\n",
       "      <td>NaN</td>\n",
       "      <td>NaN</td>\n",
       "      <td>NaN</td>\n",
       "      <td>NaN</td>\n",
       "      <td>NaN</td>\n",
       "      <td>NaN</td>\n",
       "      <td>NaN</td>\n",
       "      <td>NaN</td>\n",
       "      <td>29</td>\n",
       "      <td>Mujer Cis</td>\n",
       "    </tr>\n",
       "    <tr>\n",
       "      <th>5</th>\n",
       "      <td>Catamarca</td>\n",
       "      <td>Full-Time</td>\n",
       "      <td>250000</td>\n",
       "      <td>169000.0</td>\n",
       "      <td>Mi sueldo está dolarizado (pero cobro en moned...</td>\n",
       "      <td>105.6</td>\n",
       "      <td>4</td>\n",
       "      <td>4</td>\n",
       "      <td>No</td>\n",
       "      <td>No recibo bono</td>\n",
       "      <td>...</td>\n",
       "      <td>NaN</td>\n",
       "      <td>NaN</td>\n",
       "      <td>NaN</td>\n",
       "      <td>NaN</td>\n",
       "      <td>NaN</td>\n",
       "      <td>NaN</td>\n",
       "      <td>NaN</td>\n",
       "      <td>NaN</td>\n",
       "      <td>53</td>\n",
       "      <td>Varón Cis</td>\n",
       "    </tr>\n",
       "    <tr>\n",
       "      <th>6</th>\n",
       "      <td>Catamarca</td>\n",
       "      <td>Full-Time</td>\n",
       "      <td>447000</td>\n",
       "      <td>300000.0</td>\n",
       "      <td>Mi sueldo está dolarizado (pero cobro en moned...</td>\n",
       "      <td>200</td>\n",
       "      <td>3</td>\n",
       "      <td>3</td>\n",
       "      <td>De uno a tres sueldos</td>\n",
       "      <td>Mix de las anteriores</td>\n",
       "      <td>...</td>\n",
       "      <td>NaN</td>\n",
       "      <td>NaN</td>\n",
       "      <td>NaN</td>\n",
       "      <td>NaN</td>\n",
       "      <td>NaN</td>\n",
       "      <td>NaN</td>\n",
       "      <td>NaN</td>\n",
       "      <td>NaN</td>\n",
       "      <td>28</td>\n",
       "      <td>Varón Cis</td>\n",
       "    </tr>\n",
       "    <tr>\n",
       "      <th>7</th>\n",
       "      <td>Catamarca</td>\n",
       "      <td>Part-Time</td>\n",
       "      <td>160000</td>\n",
       "      <td>110000.0</td>\n",
       "      <td>NaN</td>\n",
       "      <td>NaN</td>\n",
       "      <td>2</td>\n",
       "      <td>2</td>\n",
       "      <td>No</td>\n",
       "      <td>No recibo bono</td>\n",
       "      <td>...</td>\n",
       "      <td>No</td>\n",
       "      <td>NaN</td>\n",
       "      <td>No</td>\n",
       "      <td>Nunca</td>\n",
       "      <td>Quiero responder más preguntas</td>\n",
       "      <td>5.0</td>\n",
       "      <td>9.0</td>\n",
       "      <td>Préstamo de equipos</td>\n",
       "      <td>50</td>\n",
       "      <td>Varón</td>\n",
       "    </tr>\n",
       "    <tr>\n",
       "      <th>8</th>\n",
       "      <td>Catamarca</td>\n",
       "      <td>Full-Time</td>\n",
       "      <td>300000</td>\n",
       "      <td>217000.0</td>\n",
       "      <td>NaN</td>\n",
       "      <td>NaN</td>\n",
       "      <td>4</td>\n",
       "      <td>4</td>\n",
       "      <td>No</td>\n",
       "      <td>No recibo bono</td>\n",
       "      <td>...</td>\n",
       "      <td>NaN</td>\n",
       "      <td>NaN</td>\n",
       "      <td>NaN</td>\n",
       "      <td>NaN</td>\n",
       "      <td>NaN</td>\n",
       "      <td>NaN</td>\n",
       "      <td>NaN</td>\n",
       "      <td>NaN</td>\n",
       "      <td>34</td>\n",
       "      <td>Varón Cis</td>\n",
       "    </tr>\n",
       "    <tr>\n",
       "      <th>9</th>\n",
       "      <td>Catamarca</td>\n",
       "      <td>Full-Time</td>\n",
       "      <td>980000</td>\n",
       "      <td>650000.0</td>\n",
       "      <td>NaN</td>\n",
       "      <td>NaN</td>\n",
       "      <td>2</td>\n",
       "      <td>3</td>\n",
       "      <td>De uno a tres sueldos</td>\n",
       "      <td>Performance grupal</td>\n",
       "      <td>...</td>\n",
       "      <td>Sí</td>\n",
       "      <td>Auditiva, Visceral</td>\n",
       "      <td>No</td>\n",
       "      <td>Nunca</td>\n",
       "      <td>Quiero responder más preguntas</td>\n",
       "      <td>2.0</td>\n",
       "      <td>6.0</td>\n",
       "      <td>Almuerzo o delivery de snacks/bebidas (saludab...</td>\n",
       "      <td>50</td>\n",
       "      <td>Mujer Trans</td>\n",
       "    </tr>\n",
       "  </tbody>\n",
       "</table>\n",
       "<p>10 rows × 56 columns</p>\n",
       "</div>"
      ],
      "text/plain": [
       "  work_province                                 work_contract_type  \\\n",
       "0     Catamarca  Tercerizado (trabajo a través de consultora o ...   \n",
       "1     Catamarca                                          Full-Time   \n",
       "2     Catamarca                                          Full-Time   \n",
       "3     Catamarca                                          Full-Time   \n",
       "4     Catamarca                                          Full-Time   \n",
       "5     Catamarca                                          Full-Time   \n",
       "6     Catamarca                                          Full-Time   \n",
       "7     Catamarca                                          Part-Time   \n",
       "8     Catamarca                                          Full-Time   \n",
       "9     Catamarca                                          Full-Time   \n",
       "\n",
       "  salary_monthly_BRUTO  salary_monthly_NETO  \\\n",
       "0               207000             150000.0   \n",
       "1               130000              99000.0   \n",
       "2               185000             145000.0   \n",
       "3                70000              60000.0   \n",
       "4                90000              74700.0   \n",
       "5               250000             169000.0   \n",
       "6               447000             300000.0   \n",
       "7               160000             110000.0   \n",
       "8               300000             217000.0   \n",
       "9               980000             650000.0   \n",
       "\n",
       "                                       salary_in_usd salary_last_dollar_value  \\\n",
       "0                                                NaN                      NaN   \n",
       "1                                                NaN                      NaN   \n",
       "2  Mi sueldo está dolarizado (pero cobro en moned...                      100   \n",
       "3                                                NaN                      NaN   \n",
       "4                                                NaN                      NaN   \n",
       "5  Mi sueldo está dolarizado (pero cobro en moned...                    105.6   \n",
       "6  Mi sueldo está dolarizado (pero cobro en moned...                      200   \n",
       "7                                                NaN                      NaN   \n",
       "8                                                NaN                      NaN   \n",
       "9                                                NaN                      NaN   \n",
       "\n",
       "   salary_satisfaction  salary_comparison_last_semester  \\\n",
       "0                    2                                1   \n",
       "1                    3                                4   \n",
       "2                    2                                2   \n",
       "3                    3                                3   \n",
       "4                    3                                2   \n",
       "5                    4                                4   \n",
       "6                    3                                3   \n",
       "7                    2                                2   \n",
       "8                    4                                4   \n",
       "9                    2                                3   \n",
       "\n",
       "        salary_has_bonus        salary_bonus_tied_to  ...  \\\n",
       "0                     No              No recibo bono  ...   \n",
       "1              Un sueldo  Performance de la compañía  ...   \n",
       "2  De uno a tres sueldos          Performance grupal  ...   \n",
       "3                     No              No recibo bono  ...   \n",
       "4                     No              No recibo bono  ...   \n",
       "5                     No              No recibo bono  ...   \n",
       "6  De uno a tres sueldos       Mix de las anteriores  ...   \n",
       "7                     No              No recibo bono  ...   \n",
       "8                     No              No recibo bono  ...   \n",
       "9  De uno a tres sueldos          Performance grupal  ...   \n",
       "\n",
       "  work_listen_more_men  profile_has_disabilities  \\\n",
       "0                  NaN                       NaN   \n",
       "1                  NaN                       NaN   \n",
       "2                  NaN                       NaN   \n",
       "3                  NaN                       NaN   \n",
       "4                  NaN                       NaN   \n",
       "5                  NaN                       NaN   \n",
       "6                  NaN                       NaN   \n",
       "7                   No                       NaN   \n",
       "8                  NaN                       NaN   \n",
       "9                   Sí        Auditiva, Visceral   \n",
       "\n",
       "   profile_has_disabilities_hiring_difficulties work_lastyear_discrimination  \\\n",
       "0                                           NaN                          NaN   \n",
       "1                                           NaN                          NaN   \n",
       "2                                           NaN                          NaN   \n",
       "3                                           NaN                          NaN   \n",
       "4                                           NaN                          NaN   \n",
       "5                                           NaN                          NaN   \n",
       "6                                           NaN                          NaN   \n",
       "7                                            No                        Nunca   \n",
       "8                                           NaN                          NaN   \n",
       "9                                            No                        Nunca   \n",
       "\n",
       "   ¿Salir o seguir contestando?.3  company_days_in_the_office  \\\n",
       "0                             NaN                         NaN   \n",
       "1                             NaN                         NaN   \n",
       "2                             NaN                         NaN   \n",
       "3                             NaN                         NaN   \n",
       "4                             NaN                         NaN   \n",
       "5                             NaN                         NaN   \n",
       "6                             NaN                         NaN   \n",
       "7  Quiero responder más preguntas                         5.0   \n",
       "8                             NaN                         NaN   \n",
       "9  Quiero responder más preguntas                         2.0   \n",
       "\n",
       "   company_pandemic_support  \\\n",
       "0                       NaN   \n",
       "1                       NaN   \n",
       "2                       NaN   \n",
       "3                       NaN   \n",
       "4                       NaN   \n",
       "5                       NaN   \n",
       "6                       NaN   \n",
       "7                       9.0   \n",
       "8                       NaN   \n",
       "9                       6.0   \n",
       "\n",
       "                                company_new_benefits profile_age  \\\n",
       "0                                                NaN          34   \n",
       "1                                                NaN          35   \n",
       "2                                                NaN          26   \n",
       "3                                                NaN          33   \n",
       "4                                                NaN          29   \n",
       "5                                                NaN          53   \n",
       "6                                                NaN          28   \n",
       "7                                Préstamo de equipos          50   \n",
       "8                                                NaN          34   \n",
       "9  Almuerzo o delivery de snacks/bebidas (saludab...          50   \n",
       "\n",
       "  profile_gender  \n",
       "0      Varón Cis  \n",
       "1      Varón Cis  \n",
       "2    Varón Trans  \n",
       "3      Varón Cis  \n",
       "4      Mujer Cis  \n",
       "5      Varón Cis  \n",
       "6      Varón Cis  \n",
       "7         Varón   \n",
       "8      Varón Cis  \n",
       "9    Mujer Trans  \n",
       "\n",
       "[10 rows x 56 columns]"
      ]
     },
     "execution_count": 101,
     "metadata": {},
     "output_type": "execute_result"
    }
   ],
   "source": [
    "file = 'renamed_2022.1 - sysarmy - Encuesta de remuneración salarial Argentina - Argentina.csv'\n",
    "df = pd.read_csv(file)\n",
    "df.head(10)\n",
    "\n",
    "#notar que en el archivo de la diplomatura la df que cargaron no es esta sino que es la de 2020."
   ]
  },
  {
   "cell_type": "code",
   "execution_count": 15,
   "metadata": {},
   "outputs": [
    {
     "data": {
      "text/plain": [
       "(5854, 56)"
      ]
     },
     "execution_count": 15,
     "metadata": {},
     "output_type": "execute_result"
    }
   ],
   "source": [
    "df.shape\n",
    "# vemos que la df que cargamos en este archivo sigue teniendo el mismo numero de filas que columnas que tenia antes."
   ]
  },
  {
   "cell_type": "code",
   "execution_count": 17,
   "metadata": {},
   "outputs": [
    {
     "name": "stdout",
     "output_type": "stream",
     "text": [
      "work_province\n",
      "work_contract_type\n",
      "salary_monthly_BRUTO\n",
      "salary_monthly_NETO\n",
      "salary_in_usd\n",
      "salary_last_dollar_value\n",
      "salary_satisfaction\n",
      "salary_comparison_last_semester\n",
      "salary_has_bonus\n",
      "salary_bonus_tied_to\n",
      "salary_inflation_adjustment_2021\n",
      "salary_percentage_inflation_adjustment_2021\n",
      "salary_month_last_inflation_adjustment\n",
      "work_role\n",
      "profile_years_experience\n",
      "work_years_in_company\n",
      "work_years_in_current_position\n",
      "work_people_in_charge_of\n",
      "tools_platform\n",
      "Lenguajes de programación o tecnologías.\n",
      "tools_frameworks\n",
      "tools_data_bases\n",
      "tools_qa_testing\n",
      "tools_IDEs\n",
      "Cantidad de personas en tu organización\n",
      "Trabajo para una empresa que no tiene oficina en mi ciudad\n",
      "company_main_activity\n",
      "company_recommended\n",
      "company_extra_benefits\n",
      "company_diversity_policies\n",
      "¿Salir o seguir contestando?\n",
      "profile_studies_level\n",
      "profile_studies_level_state\n",
      "profile_career\n",
      "profile_university\n",
      "profile_specialization_courses\n",
      "profile_open_source_contributions\n",
      "profile_programming_as_hobby\n",
      "¿Salir o seguir contestando?.1\n",
      "work_on_call_duty\n",
      "salary_on_call_duty_charge\n",
      "work_on_call_duty_charge_type\n",
      "¿Salir o seguir contestando?.2\n",
      "work_has_violence_situations\n",
      "¿Considerás que en tu empresa/organización hay una marcada tendencia a escuchar más a los hombres?\n",
      "work_yourself_in_your_work\n",
      "work_listen_more_men\n",
      "profile_has_disabilities\n",
      "profile_has_disabilities_hiring_difficulties\n",
      "work_lastyear_discrimination\n",
      "¿Salir o seguir contestando?.3\n",
      "company_days_in_the_office\n",
      "company_pandemic_support\n",
      "company_new_benefits\n",
      "profile_age\n",
      "profile_gender\n"
     ]
    }
   ],
   "source": [
    "for i in df.columns:\n",
    "    print(i)\n",
    "# me gusta dejar a mano esta celda porque es una forma sencilla de tener a mano los nombres de todas la columnas \n",
    "#con que estamos trabajando"
   ]
  },
  {
   "cell_type": "code",
   "execution_count": 152,
   "metadata": {},
   "outputs": [
    {
     "data": {
      "text/plain": [
       "work_province                                                                                          object\n",
       "work_contract_type                                                                                     object\n",
       "salary_monthly_BRUTO                                                                                   object\n",
       "salary_monthly_NETO                                                                                   float64\n",
       "salary_in_usd                                                                                          object\n",
       "salary_last_dollar_value                                                                               object\n",
       "salary_satisfaction                                                                                     int64\n",
       "salary_comparison_last_semester                                                                         int64\n",
       "salary_has_bonus                                                                                       object\n",
       "salary_bonus_tied_to                                                                                   object\n",
       "salary_inflation_adjustment_2021                                                                       object\n",
       "salary_percentage_inflation_adjustment_2021                                                           float64\n",
       "salary_month_last_inflation_adjustment                                                                float64\n",
       "work_role                                                                                              object\n",
       "profile_years_experience                                                                              float64\n",
       "work_years_in_company                                                                                 float64\n",
       "work_years_in_current_position                                                                        float64\n",
       "work_people_in_charge_of                                                                                int64\n",
       "tools_platform                                                                                         object\n",
       "Lenguajes de programación o tecnologías.                                                               object\n",
       "tools_frameworks                                                                                       object\n",
       "tools_data_bases                                                                                       object\n",
       "tools_qa_testing                                                                                       object\n",
       "tools_IDEs                                                                                             object\n",
       "Cantidad de personas en tu organización                                                                object\n",
       "Trabajo para una empresa que no tiene oficina en mi ciudad                                             object\n",
       "company_main_activity                                                                                  object\n",
       "company_recommended                                                                                     int64\n",
       "company_extra_benefits                                                                                 object\n",
       "company_diversity_policies                                                                              int64\n",
       "¿Salir o seguir contestando?                                                                           object\n",
       "profile_studies_level                                                                                  object\n",
       "profile_studies_level_state                                                                            object\n",
       "profile_career                                                                                         object\n",
       "profile_university                                                                                     object\n",
       "profile_specialization_courses                                                                         object\n",
       "profile_open_source_contributions                                                                      object\n",
       "profile_programming_as_hobby                                                                           object\n",
       "¿Salir o seguir contestando?.1                                                                         object\n",
       "work_on_call_duty                                                                                      object\n",
       "salary_on_call_duty_charge                                                                            float64\n",
       "work_on_call_duty_charge_type                                                                          object\n",
       "¿Salir o seguir contestando?.2                                                                         object\n",
       "work_has_violence_situations                                                                           object\n",
       "¿Considerás que en tu empresa/organización hay una marcada tendencia a escuchar más a los hombres?     object\n",
       "work_yourself_in_your_work                                                                             object\n",
       "work_listen_more_men                                                                                   object\n",
       "profile_has_disabilities                                                                               object\n",
       "profile_has_disabilities_hiring_difficulties                                                           object\n",
       "work_lastyear_discrimination                                                                           object\n",
       "¿Salir o seguir contestando?.3                                                                         object\n",
       "company_days_in_the_office                                                                            float64\n",
       "company_pandemic_support                                                                              float64\n",
       "company_new_benefits                                                                                   object\n",
       "profile_age                                                                                             int64\n",
       "profile_gender                                                                                         object\n",
       "dtype: object"
      ]
     },
     "execution_count": 152,
     "metadata": {},
     "output_type": "execute_result"
    }
   ],
   "source": [
    "# otra forma muy util de ver los nombres de las columnas y el tipo de datos que estan amacendo dentro es dtypes\n",
    "df.dtypes"
   ]
  },
  {
   "cell_type": "markdown",
   "metadata": {},
   "source": [
    "# Analisis de salarios"
   ]
  },
  {
   "cell_type": "code",
   "execution_count": 30,
   "metadata": {},
   "outputs": [
    {
     "data": {
      "text/plain": [
       "Text(0.5, 1.0, 'Distribucion de salarios en la industria tech-Argentina')"
      ]
     },
     "execution_count": 30,
     "metadata": {},
     "output_type": "execute_result"
    },
    {
     "data": {
      "text/plain": [
       "<Figure size 72x72 with 0 Axes>"
      ]
     },
     "metadata": {},
     "output_type": "display_data"
    },
    {
     "data": {
      "image/png": "[encoded data removed]",
      "text/plain": [
       "<Figure size 720x360 with 1 Axes>"
      ]
     },
     "metadata": {
      "needs_background": "light"
     },
     "output_type": "display_data"
    }
   ],
   "source": [
    "salary_col = 'salary_monthly_NETO'\n",
    "\n",
    "sns.displot(df[salary_col], aspect=2)\n",
    "\n",
    "plt.ticklabel_format(style='plain', axis='x')\n",
    "plt.xlim(100,2000000) # definimos los limites de x entre 100 y 2.000.000\n",
    "plt.title('Distribucion de salarios en la industria tech-Argentina')\n",
    "\n"
   ]
  },
  {
   "cell_type": "code",
   "execution_count": null,
   "metadata": {},
   "outputs": [],
   "source": []
  },
  {
   "cell_type": "markdown",
   "metadata": {},
   "source": [
    "# Analisis de edad"
   ]
  },
  {
   "cell_type": "code",
   "execution_count": 90,
   "metadata": {},
   "outputs": [
    {
     "data": {
      "image/png": "[encoded data removed]",
      "text/plain": [
       "<Figure size 720x360 with 1 Axes>"
      ]
     },
     "metadata": {
      "needs_background": "light"
     },
     "output_type": "display_data"
    }
   ],
   "source": [
    "\n",
    "sns.displot(data=df['profile_age'].dropna(),\n",
    "            aspect=2,\n",
    "            color = '#0f68a8')\n",
    "\n",
    "plt.xlim(0,65)\n",
    "plt.title('Perfil etario de trabajadores de la industria tech - Argentina')\n",
    "\n",
    "plt.show()"
   ]
  },
  {
   "cell_type": "code",
   "execution_count": 92,
   "metadata": {},
   "outputs": [
    {
     "data": {
      "image/png": "[encoded data removed]",
      "text/plain": [
       "<Figure size 1440x360 with 1 Axes>"
      ]
     },
     "metadata": {
      "needs_background": "light"
     },
     "output_type": "display_data"
    }
   ],
   "source": [
    "# version 2\n",
    "sns.displot(df.profile_age[df.profile_age < 65].dropna(),\n",
    "                 stat='count', aspect=4)\n",
    "\n",
    "plt.show()"
   ]
  },
  {
   "cell_type": "code",
   "execution_count": 82,
   "metadata": {},
   "outputs": [
    {
     "data": {
      "image/png": "[encoded data removed]",
      "text/plain": [
       "<Figure size 1080x720 with 6 Axes>"
      ]
     },
     "metadata": {
      "needs_background": "light"
     },
     "output_type": "display_data"
    }
   ],
   "source": [
    "fig, ax = plt.subplots(nrows=2, ncols=3, figsize=(15,10),sharey='row')\n",
    "\n",
    "sns.histplot(data=df.profile_age[df.profile_age<65].dropna(),\n",
    "             ax=ax[0,0],\n",
    "             stat='count')\n",
    "sns.histplot(data=df.profile_age[df.profile_age<65].dropna(),\n",
    "            ax=ax[0,1],\n",
    "            bins=20,\n",
    "            stat='count')\n",
    "sns.histplot(data=df.profile_age[df.profile_age<65].dropna(),\n",
    "            ax=ax[0,2],\n",
    "            bins=5,\n",
    "            stat='count')\n",
    "\n",
    "sns.histplot(data=df.profile_age[df.profile_age<65].dropna(),\n",
    "             ax=ax[1,0],\n",
    "             stat='frequency')\n",
    "sns.histplot(data=df.profile_age[df.profile_age<65].dropna(),\n",
    "            ax=ax[1,1],\n",
    "            bins=20,\n",
    "            stat='frequency')\n",
    "sns.histplot(data=df.profile_age[df.profile_age<65].dropna(),\n",
    "            ax=ax[1,2],\n",
    "            bins=5,\n",
    "            stat='frequency')\n",
    "\n",
    "plt.show()\n",
    "\n",
    "# stat\n",
    "# count: show the number of observations in each bin\n",
    "\n",
    "# frequency: show the number of observations divided by the bin width\n",
    "\n",
    "# probability: or proportion: normalize such that bar heights sum to 1\n",
    "\n",
    "# percent: normalize such that bar heights sum to 100\n",
    "\n",
    "# density: normalize such that the total area of the histogram equals 1"
   ]
  },
  {
   "cell_type": "code",
   "execution_count": 86,
   "metadata": {},
   "outputs": [
    {
     "data": {
      "image/png": "[encoded data removed]",
      "text/plain": [
       "<Figure size 1296x576 with 1 Axes>"
      ]
     },
     "metadata": {
      "needs_background": "light"
     },
     "output_type": "display_data"
    }
   ],
   "source": [
    "fig = plt.figure(figsize=(18,8))\n",
    "sns.countplot(x=df.profile_age[df.profile_age<65],\n",
    "             color='steelblue')\n",
    "plt.show()"
   ]
  },
  {
   "cell_type": "code",
   "execution_count": 109,
   "metadata": {},
   "outputs": [
    {
     "data": {
      "image/png": "[encoded data removed]",
      "text/plain": [
       "<Figure size 1152x288 with 1 Axes>"
      ]
     },
     "metadata": {
      "needs_background": "light"
     },
     "output_type": "display_data"
    }
   ],
   "source": [
    "fig = plt.figure(figsize=(16,4))\n",
    "age_counts = df[df.profile_age<100].profile_age.value_counts()\n",
    "\n",
    "sns.lineplot(x = age_counts.index,\n",
    "            y = age_counts.values,\n",
    "            color = 'steelblue')\n",
    "plt.xticks(fontsize=14)\n",
    "plt.yticks(fontsize=14)\n",
    "sns.despine() # spines son las lineas negras que rodean al grafico. con esta funcion podemos eliminarlas (una o todas)\n",
    "\n",
    "\n",
    "plt.show()"
   ]
  },
  {
   "cell_type": "markdown",
   "metadata": {},
   "source": [
    "# Datos no numericos"
   ]
  },
  {
   "cell_type": "code",
   "execution_count": 2,
   "metadata": {},
   "outputs": [
    {
     "ename": "NameError",
     "evalue": "name 'plt' is not defined",
     "output_type": "error",
     "traceback": [
      "\u001b[1;31m---------------------------------------------------------------------------\u001b[0m",
      "\u001b[1;31mNameError\u001b[0m                                 Traceback (most recent call last)",
      "\u001b[1;32m<ipython-input-2-477e7daf206f>\u001b[0m in \u001b[0;36m<module>\u001b[1;34m\u001b[0m\n\u001b[0;32m      1\u001b[0m \u001b[1;31m# Conteos de Datos que no son numéricos, datos categóricos. Pueden ser ordinales o no ordinales.\u001b[0m\u001b[1;33m\u001b[0m\u001b[1;33m\u001b[0m\u001b[1;33m\u001b[0m\u001b[0m\n\u001b[1;32m----> 2\u001b[1;33m \u001b[0mfig\u001b[0m \u001b[1;33m=\u001b[0m \u001b[0mplt\u001b[0m\u001b[1;33m.\u001b[0m\u001b[0mfigure\u001b[0m\u001b[1;33m(\u001b[0m\u001b[0mfigsize\u001b[0m\u001b[1;33m=\u001b[0m\u001b[1;33m(\u001b[0m\u001b[1;36m10\u001b[0m\u001b[1;33m,\u001b[0m\u001b[1;36m10\u001b[0m\u001b[1;33m)\u001b[0m\u001b[1;33m)\u001b[0m\u001b[1;33m\u001b[0m\u001b[1;33m\u001b[0m\u001b[0m\n\u001b[0m\u001b[0;32m      3\u001b[0m sns.countplot(y=df['work_province'],\n\u001b[0;32m      4\u001b[0m                       color='steelblue')\n\u001b[0;32m      5\u001b[0m \u001b[1;33m\u001b[0m\u001b[0m\n",
      "\u001b[1;31mNameError\u001b[0m: name 'plt' is not defined"
     ]
    }
   ],
   "source": [
    "# Conteos de Datos que no son numéricos, datos categóricos. Pueden ser ordinales o no ordinales.\n",
    "fig = plt.figure(figsize=(10,10))\n",
    "sns.countplot(y=df['work_province'],\n",
    "                      color='steelblue')\n",
    "\n",
    "plt.show()\n"
   ]
  },
  {
   "cell_type": "markdown",
   "metadata": {},
   "source": [
    "# Datos categoricos ordenados"
   ]
  },
  {
   "cell_type": "code",
   "execution_count": 110,
   "metadata": {},
   "outputs": [
    {
     "data": {
      "text/plain": [
       "array(['Universitario', nan, 'Terciario', 'Posdoctorado', 'Posgrado',\n",
       "       'Doctorado', 'Secundario'], dtype=object)"
      ]
     },
     "execution_count": 110,
     "metadata": {},
     "output_type": "execute_result"
    }
   ],
   "source": [
    "df.profile_studies_level.unique()\n",
    "# notar que hay algunos campos de la columna profile_studies_level.unique que no estan completados. Convendria eliminarlos. "
   ]
  },
  {
   "cell_type": "code",
   "execution_count": 117,
   "metadata": {
    "scrolled": true
   },
   "outputs": [
    {
     "data": {
      "text/html": [
       "<div>\n",
       "<style scoped>\n",
       "    .dataframe tbody tr th:only-of-type {\n",
       "        vertical-align: middle;\n",
       "    }\n",
       "\n",
       "    .dataframe tbody tr th {\n",
       "        vertical-align: top;\n",
       "    }\n",
       "\n",
       "    .dataframe thead th {\n",
       "        text-align: right;\n",
       "    }\n",
       "</style>\n",
       "<table border=\"1\" class=\"dataframe\">\n",
       "  <thead>\n",
       "    <tr style=\"text-align: right;\">\n",
       "      <th></th>\n",
       "      <th>profile_studies_level</th>\n",
       "    </tr>\n",
       "  </thead>\n",
       "  <tbody>\n",
       "    <tr>\n",
       "      <th>0</th>\n",
       "      <td>Universitario</td>\n",
       "    </tr>\n",
       "    <tr>\n",
       "      <th>1</th>\n",
       "      <td>NaN</td>\n",
       "    </tr>\n",
       "    <tr>\n",
       "      <th>2</th>\n",
       "      <td>NaN</td>\n",
       "    </tr>\n",
       "    <tr>\n",
       "      <th>3</th>\n",
       "      <td>NaN</td>\n",
       "    </tr>\n",
       "    <tr>\n",
       "      <th>4</th>\n",
       "      <td>Terciario</td>\n",
       "    </tr>\n",
       "    <tr>\n",
       "      <th>5</th>\n",
       "      <td>NaN</td>\n",
       "    </tr>\n",
       "    <tr>\n",
       "      <th>6</th>\n",
       "      <td>Universitario</td>\n",
       "    </tr>\n",
       "    <tr>\n",
       "      <th>7</th>\n",
       "      <td>Universitario</td>\n",
       "    </tr>\n",
       "    <tr>\n",
       "      <th>8</th>\n",
       "      <td>Universitario</td>\n",
       "    </tr>\n",
       "    <tr>\n",
       "      <th>9</th>\n",
       "      <td>Posdoctorado</td>\n",
       "    </tr>\n",
       "    <tr>\n",
       "      <th>10</th>\n",
       "      <td>Universitario</td>\n",
       "    </tr>\n",
       "    <tr>\n",
       "      <th>11</th>\n",
       "      <td>NaN</td>\n",
       "    </tr>\n",
       "    <tr>\n",
       "      <th>12</th>\n",
       "      <td>NaN</td>\n",
       "    </tr>\n",
       "    <tr>\n",
       "      <th>13</th>\n",
       "      <td>NaN</td>\n",
       "    </tr>\n",
       "    <tr>\n",
       "      <th>14</th>\n",
       "      <td>NaN</td>\n",
       "    </tr>\n",
       "    <tr>\n",
       "      <th>15</th>\n",
       "      <td>Universitario</td>\n",
       "    </tr>\n",
       "    <tr>\n",
       "      <th>16</th>\n",
       "      <td>Universitario</td>\n",
       "    </tr>\n",
       "    <tr>\n",
       "      <th>17</th>\n",
       "      <td>NaN</td>\n",
       "    </tr>\n",
       "    <tr>\n",
       "      <th>18</th>\n",
       "      <td>NaN</td>\n",
       "    </tr>\n",
       "    <tr>\n",
       "      <th>19</th>\n",
       "      <td>Universitario</td>\n",
       "    </tr>\n",
       "    <tr>\n",
       "      <th>20</th>\n",
       "      <td>Terciario</td>\n",
       "    </tr>\n",
       "    <tr>\n",
       "      <th>21</th>\n",
       "      <td>Terciario</td>\n",
       "    </tr>\n",
       "    <tr>\n",
       "      <th>22</th>\n",
       "      <td>Universitario</td>\n",
       "    </tr>\n",
       "    <tr>\n",
       "      <th>23</th>\n",
       "      <td>Posgrado</td>\n",
       "    </tr>\n",
       "    <tr>\n",
       "      <th>24</th>\n",
       "      <td>Universitario</td>\n",
       "    </tr>\n",
       "    <tr>\n",
       "      <th>25</th>\n",
       "      <td>Terciario</td>\n",
       "    </tr>\n",
       "    <tr>\n",
       "      <th>26</th>\n",
       "      <td>Universitario</td>\n",
       "    </tr>\n",
       "    <tr>\n",
       "      <th>27</th>\n",
       "      <td>NaN</td>\n",
       "    </tr>\n",
       "    <tr>\n",
       "      <th>28</th>\n",
       "      <td>NaN</td>\n",
       "    </tr>\n",
       "    <tr>\n",
       "      <th>29</th>\n",
       "      <td>Universitario</td>\n",
       "    </tr>\n",
       "    <tr>\n",
       "      <th>30</th>\n",
       "      <td>Universitario</td>\n",
       "    </tr>\n",
       "    <tr>\n",
       "      <th>31</th>\n",
       "      <td>Universitario</td>\n",
       "    </tr>\n",
       "    <tr>\n",
       "      <th>32</th>\n",
       "      <td>Universitario</td>\n",
       "    </tr>\n",
       "    <tr>\n",
       "      <th>33</th>\n",
       "      <td>Universitario</td>\n",
       "    </tr>\n",
       "    <tr>\n",
       "      <th>34</th>\n",
       "      <td>NaN</td>\n",
       "    </tr>\n",
       "    <tr>\n",
       "      <th>35</th>\n",
       "      <td>Posgrado</td>\n",
       "    </tr>\n",
       "    <tr>\n",
       "      <th>36</th>\n",
       "      <td>Universitario</td>\n",
       "    </tr>\n",
       "    <tr>\n",
       "      <th>37</th>\n",
       "      <td>NaN</td>\n",
       "    </tr>\n",
       "    <tr>\n",
       "      <th>38</th>\n",
       "      <td>NaN</td>\n",
       "    </tr>\n",
       "    <tr>\n",
       "      <th>39</th>\n",
       "      <td>Universitario</td>\n",
       "    </tr>\n",
       "    <tr>\n",
       "      <th>40</th>\n",
       "      <td>NaN</td>\n",
       "    </tr>\n",
       "    <tr>\n",
       "      <th>41</th>\n",
       "      <td>NaN</td>\n",
       "    </tr>\n",
       "    <tr>\n",
       "      <th>42</th>\n",
       "      <td>NaN</td>\n",
       "    </tr>\n",
       "    <tr>\n",
       "      <th>43</th>\n",
       "      <td>Universitario</td>\n",
       "    </tr>\n",
       "    <tr>\n",
       "      <th>44</th>\n",
       "      <td>Terciario</td>\n",
       "    </tr>\n",
       "    <tr>\n",
       "      <th>45</th>\n",
       "      <td>NaN</td>\n",
       "    </tr>\n",
       "    <tr>\n",
       "      <th>46</th>\n",
       "      <td>Universitario</td>\n",
       "    </tr>\n",
       "    <tr>\n",
       "      <th>47</th>\n",
       "      <td>Doctorado</td>\n",
       "    </tr>\n",
       "    <tr>\n",
       "      <th>48</th>\n",
       "      <td>NaN</td>\n",
       "    </tr>\n",
       "    <tr>\n",
       "      <th>49</th>\n",
       "      <td>NaN</td>\n",
       "    </tr>\n",
       "  </tbody>\n",
       "</table>\n",
       "</div>"
      ],
      "text/plain": [
       "   profile_studies_level\n",
       "0          Universitario\n",
       "1                    NaN\n",
       "2                    NaN\n",
       "3                    NaN\n",
       "4              Terciario\n",
       "5                    NaN\n",
       "6          Universitario\n",
       "7          Universitario\n",
       "8          Universitario\n",
       "9           Posdoctorado\n",
       "10         Universitario\n",
       "11                   NaN\n",
       "12                   NaN\n",
       "13                   NaN\n",
       "14                   NaN\n",
       "15         Universitario\n",
       "16         Universitario\n",
       "17                   NaN\n",
       "18                   NaN\n",
       "19         Universitario\n",
       "20             Terciario\n",
       "21             Terciario\n",
       "22         Universitario\n",
       "23              Posgrado\n",
       "24         Universitario\n",
       "25             Terciario\n",
       "26         Universitario\n",
       "27                   NaN\n",
       "28                   NaN\n",
       "29         Universitario\n",
       "30         Universitario\n",
       "31         Universitario\n",
       "32         Universitario\n",
       "33         Universitario\n",
       "34                   NaN\n",
       "35              Posgrado\n",
       "36         Universitario\n",
       "37                   NaN\n",
       "38                   NaN\n",
       "39         Universitario\n",
       "40                   NaN\n",
       "41                   NaN\n",
       "42                   NaN\n",
       "43         Universitario\n",
       "44             Terciario\n",
       "45                   NaN\n",
       "46         Universitario\n",
       "47             Doctorado\n",
       "48                   NaN\n",
       "49                   NaN"
      ]
     },
     "execution_count": 117,
     "metadata": {},
     "output_type": "execute_result"
    }
   ],
   "source": [
    "df[['profile_studies_level']].head(50)"
   ]
  },
  {
   "cell_type": "code",
   "execution_count": 123,
   "metadata": {},
   "outputs": [
    {
     "data": {
      "text/plain": [
       "2910"
      ]
     },
     "execution_count": 123,
     "metadata": {},
     "output_type": "execute_result"
    }
   ],
   "source": [
    "df.profile_studies_level.isna().sum()\n",
    "# hay muchisimas entradas en las que la gente que completo la encuesta no completo la columna profile_studies_level"
   ]
  },
  {
   "cell_type": "code",
   "execution_count": 125,
   "metadata": {},
   "outputs": [],
   "source": [
    "df_studies = df.dropna(subset=['profile_studies_level'])"
   ]
  },
  {
   "cell_type": "code",
   "execution_count": 126,
   "metadata": {},
   "outputs": [
    {
     "data": {
      "text/plain": [
       "(2944, 56)"
      ]
     },
     "execution_count": 126,
     "metadata": {},
     "output_type": "execute_result"
    }
   ],
   "source": [
    "df_studies.shape"
   ]
  },
  {
   "cell_type": "code",
   "execution_count": 144,
   "metadata": {},
   "outputs": [
    {
     "data": {
      "image/png": "[encoded data removed]",
      "text/plain": [
       "<Figure size 720x1080 with 2 Axes>"
      ]
     },
     "metadata": {
      "needs_background": "light"
     },
     "output_type": "display_data"
    }
   ],
   "source": [
    "sorted_studies_levels = ['Primario', 'Secundario', 'Terciario', 'Universitario',\n",
    "                         'Posgrado', 'Doctorado', 'Posdoctorado']\n",
    "fig, axes = plt.subplots(nrows = 2,\n",
    "                       ncols = 1,\n",
    "                       figsize = (10,15))\n",
    "sns.countplot(x=df.profile_studies_level,\n",
    "             color='steelblue',\n",
    "              ax=axes[0])\n",
    "\n",
    "sns.countplot(x=df.profile_studies_level,\n",
    "             color='steelblue',\n",
    "             ax=axes[1],\n",
    "             order=sorted_studies_levels)\n",
    "plt.show()"
   ]
  },
  {
   "cell_type": "code",
   "execution_count": 145,
   "metadata": {},
   "outputs": [
    {
     "data": {
      "text/plain": [
       "numpy.int64"
      ]
     },
     "execution_count": 145,
     "metadata": {},
     "output_type": "execute_result"
    }
   ],
   "source": [
    "age = df.profile_age.iloc[0]\n",
    "type(age)"
   ]
  },
  {
   "cell_type": "code",
   "execution_count": null,
   "metadata": {},
   "outputs": [],
   "source": []
  },
  {
   "cell_type": "code",
   "execution_count": null,
   "metadata": {},
   "outputs": [],
   "source": []
  },
  {
   "cell_type": "code",
   "execution_count": null,
   "metadata": {},
   "outputs": [],
   "source": []
  },
  {
   "cell_type": "code",
   "execution_count": null,
   "metadata": {},
   "outputs": [],
   "source": []
  },
  {
   "cell_type": "code",
   "execution_count": null,
   "metadata": {},
   "outputs": [],
   "source": []
  },
  {
   "cell_type": "code",
   "execution_count": null,
   "metadata": {},
   "outputs": [],
   "source": []
  },
  {
   "cell_type": "code",
   "execution_count": null,
   "metadata": {},
   "outputs": [],
   "source": []
  },
  {
   "cell_type": "code",
   "execution_count": null,
   "metadata": {},
   "outputs": [],
   "source": []
  }
 ],
 "metadata": {
  "kernelspec": {
   "display_name": "Python 3",
   "language": "python",
   "name": "python3"
  },
  "language_info": {
   "codemirror_mode": {
    "name": "ipython",
    "version": 3
   },
   "file_extension": ".py",
   "mimetype": "text/x-python",
   "name": "python",
   "nbconvert_exporter": "python",
   "pygments_lexer": "ipython3",
   "version": "3.8.6"
  }
 },
 "nbformat": 4,
 "nbformat_minor": 4
}
