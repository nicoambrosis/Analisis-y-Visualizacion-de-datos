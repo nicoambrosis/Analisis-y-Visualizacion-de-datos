{
 "cells": [
  {
   "cell_type": "markdown",
   "metadata": {
    "id": "ufJ9WwQrNgIo"
   },
   "source": [
    "---\n",
    "\n",
    "# Datos y Modelos\n"
   ]
  },
  {
   "cell_type": "code",
   "execution_count": 38,
   "metadata": {
    "id": "uMxlEMlINgIu"
   },
   "outputs": [],
   "source": [
    "import io\n",
    "import matplotlib\n",
    "import matplotlib.pyplot as plt\n",
    "import numpy as np\n",
    "import pandas as pd\n",
    "import seaborn as sns\n",
    "\n",
    "sns.set_context('talk')\n",
    "#context: dict, or one of {paper, notebook, talk, poster}\n",
    "#A dictionary of parameters or the name of a preconfigured set.\n",
    "# define el estilo de visualizacion de las figuras"
   ]
  },
  {
   "cell_type": "markdown",
   "metadata": {
    "id": "nuTIUluT4trt"
   },
   "source": [
    "## Carga del DataSet\n",
    "El dataset con el que estamos trabajando esta alojado en [esta pagina](https://sysarmy.com/blog/posts/resultados-de-la-encuesta-de-sueldos-2022-1/).\n",
    "\n",
    "El url del .csv que contiene los resultados de la encuesta es:\n",
    "url = https://sysar.my/sueldos20221arg"
   ]
  },
  {
   "cell_type": "code",
   "execution_count": 39,
   "metadata": {
    "colab": {
     "base_uri": "https://localhost:8080/",
     "height": 375
    },
    "executionInfo": {
     "elapsed": 297,
     "status": "ok",
     "timestamp": 1649857622874,
     "user": {
      "displayName": "Nicolás Ambrosis",
      "userId": "13396483969458523992"
     },
     "user_tz": 180
    },
    "id": "wUwxHB9VNgIv",
    "outputId": "11db2481-558d-4b2a-89ac-d5d61131858b"
   },
   "outputs": [
    {
     "data": {
      "text/html": [
       "<div>\n",
       "<style scoped>\n",
       "    .dataframe tbody tr th:only-of-type {\n",
       "        vertical-align: middle;\n",
       "    }\n",
       "\n",
       "    .dataframe tbody tr th {\n",
       "        vertical-align: top;\n",
       "    }\n",
       "\n",
       "    .dataframe thead th {\n",
       "        text-align: right;\n",
       "    }\n",
       "</style>\n",
       "<table border=\"1\" class=\"dataframe\">\n",
       "  <thead>\n",
       "    <tr style=\"text-align: right;\">\n",
       "      <th></th>\n",
       "      <th>work_province</th>\n",
       "      <th>work_contract_type</th>\n",
       "      <th>salary_monthly_BRUTO</th>\n",
       "      <th>salary_monthly_NETO</th>\n",
       "      <th>salary_in_usd</th>\n",
       "      <th>salary_last_dollar_value</th>\n",
       "      <th>salary_satisfaction</th>\n",
       "      <th>salary_comparison_last_semester</th>\n",
       "      <th>salary_has_bonus</th>\n",
       "      <th>salary_bonus_tied_to</th>\n",
       "      <th>...</th>\n",
       "      <th>work_listen_more_men</th>\n",
       "      <th>profile_has_disabilities</th>\n",
       "      <th>profile_has_disabilities_hiring_difficulties</th>\n",
       "      <th>work_lastyear_discrimination</th>\n",
       "      <th>¿Salir o seguir contestando?.3</th>\n",
       "      <th>company_days_in_the_office</th>\n",
       "      <th>company_pandemic_support</th>\n",
       "      <th>company_new_benefits</th>\n",
       "      <th>profile_age</th>\n",
       "      <th>profile_gender</th>\n",
       "    </tr>\n",
       "  </thead>\n",
       "  <tbody>\n",
       "    <tr>\n",
       "      <th>0</th>\n",
       "      <td>Catamarca</td>\n",
       "      <td>Tercerizado (trabajo a través de consultora o ...</td>\n",
       "      <td>207000</td>\n",
       "      <td>150000.0</td>\n",
       "      <td>NaN</td>\n",
       "      <td>NaN</td>\n",
       "      <td>2</td>\n",
       "      <td>1</td>\n",
       "      <td>No</td>\n",
       "      <td>No recibo bono</td>\n",
       "      <td>...</td>\n",
       "      <td>NaN</td>\n",
       "      <td>NaN</td>\n",
       "      <td>NaN</td>\n",
       "      <td>NaN</td>\n",
       "      <td>NaN</td>\n",
       "      <td>NaN</td>\n",
       "      <td>NaN</td>\n",
       "      <td>NaN</td>\n",
       "      <td>34</td>\n",
       "      <td>Varón Cis</td>\n",
       "    </tr>\n",
       "    <tr>\n",
       "      <th>1</th>\n",
       "      <td>Catamarca</td>\n",
       "      <td>Full-Time</td>\n",
       "      <td>130000</td>\n",
       "      <td>99000.0</td>\n",
       "      <td>NaN</td>\n",
       "      <td>NaN</td>\n",
       "      <td>3</td>\n",
       "      <td>4</td>\n",
       "      <td>Un sueldo</td>\n",
       "      <td>Performance de la compañía</td>\n",
       "      <td>...</td>\n",
       "      <td>NaN</td>\n",
       "      <td>NaN</td>\n",
       "      <td>NaN</td>\n",
       "      <td>NaN</td>\n",
       "      <td>NaN</td>\n",
       "      <td>NaN</td>\n",
       "      <td>NaN</td>\n",
       "      <td>NaN</td>\n",
       "      <td>35</td>\n",
       "      <td>Varón Cis</td>\n",
       "    </tr>\n",
       "    <tr>\n",
       "      <th>2</th>\n",
       "      <td>Catamarca</td>\n",
       "      <td>Full-Time</td>\n",
       "      <td>185000</td>\n",
       "      <td>145000.0</td>\n",
       "      <td>Mi sueldo está dolarizado (pero cobro en moned...</td>\n",
       "      <td>100</td>\n",
       "      <td>2</td>\n",
       "      <td>2</td>\n",
       "      <td>De uno a tres sueldos</td>\n",
       "      <td>Performance grupal</td>\n",
       "      <td>...</td>\n",
       "      <td>NaN</td>\n",
       "      <td>NaN</td>\n",
       "      <td>NaN</td>\n",
       "      <td>NaN</td>\n",
       "      <td>NaN</td>\n",
       "      <td>NaN</td>\n",
       "      <td>NaN</td>\n",
       "      <td>NaN</td>\n",
       "      <td>26</td>\n",
       "      <td>Varón Trans</td>\n",
       "    </tr>\n",
       "  </tbody>\n",
       "</table>\n",
       "<p>3 rows × 56 columns</p>\n",
       "</div>"
      ],
      "text/plain": [
       "  work_province                                 work_contract_type  \\\n",
       "0     Catamarca  Tercerizado (trabajo a través de consultora o ...   \n",
       "1     Catamarca                                          Full-Time   \n",
       "2     Catamarca                                          Full-Time   \n",
       "\n",
       "  salary_monthly_BRUTO  salary_monthly_NETO  \\\n",
       "0               207000             150000.0   \n",
       "1               130000              99000.0   \n",
       "2               185000             145000.0   \n",
       "\n",
       "                                       salary_in_usd salary_last_dollar_value  \\\n",
       "0                                                NaN                      NaN   \n",
       "1                                                NaN                      NaN   \n",
       "2  Mi sueldo está dolarizado (pero cobro en moned...                      100   \n",
       "\n",
       "   salary_satisfaction  salary_comparison_last_semester  \\\n",
       "0                    2                                1   \n",
       "1                    3                                4   \n",
       "2                    2                                2   \n",
       "\n",
       "        salary_has_bonus        salary_bonus_tied_to  ...  \\\n",
       "0                     No              No recibo bono  ...   \n",
       "1              Un sueldo  Performance de la compañía  ...   \n",
       "2  De uno a tres sueldos          Performance grupal  ...   \n",
       "\n",
       "  work_listen_more_men  profile_has_disabilities  \\\n",
       "0                  NaN                       NaN   \n",
       "1                  NaN                       NaN   \n",
       "2                  NaN                       NaN   \n",
       "\n",
       "   profile_has_disabilities_hiring_difficulties work_lastyear_discrimination  \\\n",
       "0                                           NaN                          NaN   \n",
       "1                                           NaN                          NaN   \n",
       "2                                           NaN                          NaN   \n",
       "\n",
       "   ¿Salir o seguir contestando?.3  company_days_in_the_office  \\\n",
       "0                             NaN                         NaN   \n",
       "1                             NaN                         NaN   \n",
       "2                             NaN                         NaN   \n",
       "\n",
       "   company_pandemic_support  company_new_benefits profile_age profile_gender  \n",
       "0                       NaN                   NaN          34      Varón Cis  \n",
       "1                       NaN                   NaN          35      Varón Cis  \n",
       "2                       NaN                   NaN          26    Varón Trans  \n",
       "\n",
       "[3 rows x 56 columns]"
      ]
     },
     "execution_count": 39,
     "metadata": {},
     "output_type": "execute_result"
    }
   ],
   "source": [
    "df = pd.read_csv('renamed_2022.1 - sysarmy - Encuesta de remuneración salarial Argentina - Argentina.csv')\n",
    "df.head(3)"
   ]
  },
  {
   "cell_type": "code",
   "execution_count": 40,
   "metadata": {
    "colab": {
     "base_uri": "https://localhost:8080/"
    },
    "executionInfo": {
     "elapsed": 279,
     "status": "ok",
     "timestamp": 1649857630670,
     "user": {
      "displayName": "Nicolás Ambrosis",
      "userId": "13396483969458523992"
     },
     "user_tz": 180
    },
    "id": "iv3iX-YcNgIy",
    "outputId": "8065affc-ad80-4697-f1e1-f7a1327c527c"
   },
   "outputs": [
    {
     "data": {
      "text/plain": [
       "work_province            object\n",
       "work_contract_type       object\n",
       "salary_monthly_BRUTO     object\n",
       "salary_monthly_NETO     float64\n",
       "dtype: object"
      ]
     },
     "execution_count": 40,
     "metadata": {},
     "output_type": "execute_result"
    }
   ],
   "source": [
    "df.dtypes[:4]\n",
    "# notar que la columna salary_monthly_BRUTO contiene datos del tipo obect(str en este caso).\n",
    "# para poder analizar esos datos en forma numerica vamos a tener que pasarlos a un valor numerico."
   ]
  },
  {
   "cell_type": "code",
   "execution_count": 41,
   "metadata": {
    "id": "EYqKUDZ_NgIz"
   },
   "outputs": [],
   "source": [
    "# vamos a crear una nueva columna que tenga los datos de salary_monthly_BRUTO en float y \n",
    "# que no tenga nada si no puede convertirlo\n",
    "\n",
    "df['salary_monthly_BRUTO'] = pd.to_numeric(df['salary_monthly_BRUTO'],\n",
    "                                           errors='coerce')\n",
    "\n",
    "\n",
    "# errors: {‘ignore’, ‘raise’, ‘coerce’}, default ‘raise’\n",
    "# If ‘raise’, then invalid parsing will raise an exception.\n",
    "# If ‘coerce’, then invalid parsing will be set as NaN.\n",
    "# If ‘ignore’, then invalid parsing will return the input.\n",
    "\n"
   ]
  },
  {
   "cell_type": "code",
   "execution_count": 42,
   "metadata": {
    "colab": {
     "base_uri": "https://localhost:8080/"
    },
    "executionInfo": {
     "elapsed": 291,
     "status": "ok",
     "timestamp": 1649857633588,
     "user": {
      "displayName": "Nicolás Ambrosis",
      "userId": "13396483969458523992"
     },
     "user_tz": 180
    },
    "id": "aNejDJHQNgI0",
    "outputId": "1c3ea32a-3ce5-49a5-8ec8-bcb00747373d"
   },
   "outputs": [
    {
     "data": {
      "text/plain": [
       "100"
      ]
     },
     "execution_count": 42,
     "metadata": {},
     "output_type": "execute_result"
    }
   ],
   "source": [
    "# despues del boque anterior tienen que haber quedado algunas celdas con NaN\n",
    "df.salary_monthly_BRUTO.isna().sum()\n",
    "\n",
    "\n",
    "# vemos que hay 100 celdas que tienen NaN. Corresponden a celdas que estaban mal entradas en la DF original y las \n",
    "# eliminamos cuando convertimos la columna de str a float"
   ]
  },
  {
   "cell_type": "code",
   "execution_count": 43,
   "metadata": {
    "colab": {
     "base_uri": "https://localhost:8080/"
    },
    "executionInfo": {
     "elapsed": 288,
     "status": "ok",
     "timestamp": 1649857635034,
     "user": {
      "displayName": "Nicolás Ambrosis",
      "userId": "13396483969458523992"
     },
     "user_tz": 180
    },
    "id": "XQwKfmfdNgI2",
    "outputId": "386f48a0-6062-4a5f-d7b6-1b061c0a993f"
   },
   "outputs": [
    {
     "data": {
      "text/plain": [
       "(5754, 56)"
      ]
     },
     "execution_count": 43,
     "metadata": {},
     "output_type": "execute_result"
    }
   ],
   "source": [
    "# vamos a eliminar las entradas que tienen Nan en la columna salary_monthly_BRUTO\n",
    "df = df.dropna(subset=['salary_monthly_BRUTO'])\n",
    "df.shape\n"
   ]
  },
  {
   "cell_type": "code",
   "execution_count": 44,
   "metadata": {
    "colab": {
     "base_uri": "https://localhost:8080/"
    },
    "executionInfo": {
     "elapsed": 292,
     "status": "ok",
     "timestamp": 1649857636174,
     "user": {
      "displayName": "Nicolás Ambrosis",
      "userId": "13396483969458523992"
     },
     "user_tz": 180
    },
    "id": "Zb4orix0NgI5",
    "outputId": "d7bd552f-e210-40da-aff3-4f76243dafa8"
   },
   "outputs": [
    {
     "data": {
      "text/plain": [
       "work_province            object\n",
       "work_contract_type       object\n",
       "salary_monthly_BRUTO    float64\n",
       "salary_monthly_NETO     float64\n",
       "dtype: object"
      ]
     },
     "execution_count": 44,
     "metadata": {},
     "output_type": "execute_result"
    }
   ],
   "source": [
    "df.dtypes[:4]"
   ]
  },
  {
   "cell_type": "code",
   "execution_count": 45,
   "metadata": {
    "colab": {
     "base_uri": "https://localhost:8080/"
    },
    "executionInfo": {
     "elapsed": 20,
     "status": "ok",
     "timestamp": 1649857637096,
     "user": {
      "displayName": "Nicolás Ambrosis",
      "userId": "13396483969458523992"
     },
     "user_tz": 180
    },
    "id": "HdQFOBftNgI6",
    "outputId": "53258d4d-c989-4b07-a8d6-9c44a3e5eb51"
   },
   "outputs": [
    {
     "data": {
      "text/plain": [
       "count       5754.00\n",
       "mean      260453.72\n",
       "std       302083.74\n",
       "min            0.00\n",
       "25%       115000.00\n",
       "50%       187750.00\n",
       "75%       300000.00\n",
       "max      8400000.00\n",
       "Name: salary_monthly_BRUTO, dtype: object"
      ]
     },
     "execution_count": 45,
     "metadata": {},
     "output_type": "execute_result"
    }
   ],
   "source": [
    "salary_col='salary_monthly_BRUTO'\n",
    "df[salary_col].describe().apply(lambda s: '{0:.2f}'.format(s))"
   ]
  },
  {
   "cell_type": "code",
   "execution_count": 46,
   "metadata": {
    "colab": {
     "base_uri": "https://localhost:8080/"
    },
    "executionInfo": {
     "elapsed": 290,
     "status": "ok",
     "timestamp": 1649857638424,
     "user": {
      "displayName": "Nicolás Ambrosis",
      "userId": "13396483969458523992"
     },
     "user_tz": 180
    },
    "id": "rlqsRfQpNgI9",
    "outputId": "170a3b80-3a53-4563-8a3f-e414e80b765c"
   },
   "outputs": [
    {
     "data": {
      "text/plain": [
       "count       5754.00\n",
       "mean      260453.72\n",
       "std       302083.74\n",
       "min            0.00\n",
       "25%       115000.00\n",
       "50%       187750.00\n",
       "75%       300000.00\n",
       "max      8400000.00\n",
       "Name: salary_monthly_BRUTO, dtype: float64"
      ]
     },
     "execution_count": 46,
     "metadata": {},
     "output_type": "execute_result"
    }
   ],
   "source": [
    "# nota. creo que hubiera sido mas sencillo utilizar la funcion round()\n",
    "df[salary_col].describe().round(2)"
   ]
  },
  {
   "cell_type": "markdown",
   "metadata": {
    "id": "on1xKJPJNgI_"
   },
   "source": [
    "## Medidas de tendencia central"
   ]
  },
  {
   "cell_type": "code",
   "execution_count": 47,
   "metadata": {
    "colab": {
     "base_uri": "https://localhost:8080/"
    },
    "executionInfo": {
     "elapsed": 275,
     "status": "ok",
     "timestamp": 1649857640673,
     "user": {
      "displayName": "Nicolás Ambrosis",
      "userId": "13396483969458523992"
     },
     "user_tz": 180
    },
    "id": "j5yS2u8UNgI_",
    "outputId": "ba65ab61-1e49-4d4c-c0cb-4e78c3ba14f1"
   },
   "outputs": [
    {
     "data": {
      "text/plain": [
       "[(8400000.0, 259038.8888213106, 187500.0, 71538.8888213106),\n",
       " (1000000, 224516.1923084764, 180000.0, 44516.1923084764),\n",
       " (500000, 187160.72419329197, 170000.0, 17160.72419329197),\n",
       " (400000, 170631.28979296793, 162540.0, 8091.289792967931),\n",
       " (300000, 147599.98864363207, 150000.0, -2400.0113563679333),\n",
       " (200000, 112432.55131986864, 120000.0, -7567.4486801313615)]"
      ]
     },
     "execution_count": 47,
     "metadata": {},
     "output_type": "execute_result"
    }
   ],
   "source": [
    "# sabemos que los valores extremo tiene un impacto muy fuerte sobre el valor de la media (recordar que es un medida\n",
    "# del centro de masa del histograma).\n",
    "# Que pasa si vamos recortando los valores extremos?\n",
    "\n",
    "max_salaries = [df[salary_col].max(), 10**6,500000, 400000, 300000, 200000 ]\n",
    "\n",
    "central_tendency = [\n",
    "    (max_salary, \n",
    "     df[df[salary_col] < max_salary][salary_col].mean(),\n",
    "    df[df[salary_col] < max_salary][salary_col].median(),\n",
    "     df[df[salary_col] < max_salary][salary_col].mean() - df[df[salary_col] < max_salary][salary_col].median()\n",
    "    )\n",
    "    for max_salary in max_salaries\n",
    "]\n",
    "central_tendency\n",
    "\n",
    "# notar que a medida que quitamos valores extremos, la dierencia entre la media y la mediana va disminuyendo."
   ]
  },
  {
   "cell_type": "code",
   "execution_count": 48,
   "metadata": {
    "colab": {
     "base_uri": "https://localhost:8080/",
     "height": 206
    },
    "executionInfo": {
     "elapsed": 5655,
     "status": "ok",
     "timestamp": 1649857647352,
     "user": {
      "displayName": "Nicolás Ambrosis",
      "userId": "13396483969458523992"
     },
     "user_tz": 180
    },
    "id": "ib-LMFOsNgJB",
    "outputId": "7284fa50-a95a-45e3-ddad-a26cac8b0efa"
   },
   "outputs": [
    {
     "data": {
      "text/html": [
       "<div>\n",
       "<style scoped>\n",
       "    .dataframe tbody tr th:only-of-type {\n",
       "        vertical-align: middle;\n",
       "    }\n",
       "\n",
       "    .dataframe tbody tr th {\n",
       "        vertical-align: top;\n",
       "    }\n",
       "\n",
       "    .dataframe thead th {\n",
       "        text-align: right;\n",
       "    }\n",
       "</style>\n",
       "<table border=\"1\" class=\"dataframe\">\n",
       "  <thead>\n",
       "    <tr style=\"text-align: right;\">\n",
       "      <th></th>\n",
       "      <th>max_salary</th>\n",
       "      <th>metric</th>\n",
       "      <th>value</th>\n",
       "    </tr>\n",
       "  </thead>\n",
       "  <tbody>\n",
       "    <tr>\n",
       "      <th>0</th>\n",
       "      <td>50000</td>\n",
       "      <td>mean</td>\n",
       "      <td>11428.248917</td>\n",
       "    </tr>\n",
       "    <tr>\n",
       "      <th>1</th>\n",
       "      <td>60000</td>\n",
       "      <td>mean</td>\n",
       "      <td>17674.096301</td>\n",
       "    </tr>\n",
       "    <tr>\n",
       "      <th>2</th>\n",
       "      <td>70000</td>\n",
       "      <td>mean</td>\n",
       "      <td>27987.052631</td>\n",
       "    </tr>\n",
       "    <tr>\n",
       "      <th>3</th>\n",
       "      <td>80000</td>\n",
       "      <td>mean</td>\n",
       "      <td>37618.264907</td>\n",
       "    </tr>\n",
       "    <tr>\n",
       "      <th>4</th>\n",
       "      <td>90000</td>\n",
       "      <td>mean</td>\n",
       "      <td>46460.409872</td>\n",
       "    </tr>\n",
       "  </tbody>\n",
       "</table>\n",
       "</div>"
      ],
      "text/plain": [
       "   max_salary metric         value\n",
       "0       50000   mean  11428.248917\n",
       "1       60000   mean  17674.096301\n",
       "2       70000   mean  27987.052631\n",
       "3       80000   mean  37618.264907\n",
       "4       90000   mean  46460.409872"
      ]
     },
     "execution_count": 48,
     "metadata": {},
     "output_type": "execute_result"
    }
   ],
   "source": [
    "central_tendency_max = [\n",
    "    (max_salary, \n",
    "     df[df[salary_col] < max_salary][salary_col].mean(),\n",
    "    df[df[salary_col] < max_salary][salary_col].median())\n",
    "    for max_salary in range(50000, int(df[salary_col].max()), 10**4)\n",
    "]\n",
    "\n",
    "central_tendency_max_df = pd.DataFrame(central_tendency_max,\n",
    "                                      columns=['max_salary', 'mean', 'median'])\\\n",
    ".melt(id_vars='max_salary', var_name='metric')\n",
    "\n",
    "central_tendency_max_df.head()"
   ]
  },
  {
   "cell_type": "code",
   "execution_count": 49,
   "metadata": {
    "colab": {
     "base_uri": "https://localhost:8080/",
     "height": 355
    },
    "executionInfo": {
     "elapsed": 914,
     "status": "ok",
     "timestamp": 1649857651225,
     "user": {
      "displayName": "Nicolás Ambrosis",
      "userId": "13396483969458523992"
     },
     "user_tz": 180
    },
    "id": "LVU77g-8NgJC",
    "outputId": "96b0d9fb-714b-4c59-ced2-1f88930c9028"
   },
   "outputs": [
    {
     "data": {
      "image/png": "[encoded data removed]",
      "text/plain": [
       "<Figure size 1080x360 with 1 Axes>"
      ]
     },
     "metadata": {
      "needs_background": "light"
     },
     "output_type": "display_data"
    }
   ],
   "source": [
    "fig = plt.figure(figsize = (15,5))\n",
    "\n",
    "sns.lineplot(data = central_tendency_max_df,\n",
    "             x = 'max_salary',\n",
    "             y = 'value',\n",
    "             hue = 'metric')\n",
    "\n",
    "\n",
    "plt.show()"
   ]
  },
  {
   "cell_type": "markdown",
   "metadata": {
    "id": "bvwP6W6ZNgJE"
   },
   "source": [
    "### otra forma de visualizar la diferencia entre media y mediana"
   ]
  },
  {
   "cell_type": "code",
   "execution_count": 50,
   "metadata": {
    "colab": {
     "base_uri": "https://localhost:8080/",
     "height": 518
    },
    "executionInfo": {
     "elapsed": 3578,
     "status": "ok",
     "timestamp": 1649857657033,
     "user": {
      "displayName": "Nicolás Ambrosis",
      "userId": "13396483969458523992"
     },
     "user_tz": 180
    },
    "id": "GC4R7jV5NgJF",
    "outputId": "08a2b4ff-b58b-4cd7-d8d5-a57845c89d6d"
   },
   "outputs": [
    {
     "data": {
      "image/png": "[encoded data removed]",
      "text/plain": [
       "<Figure size 1296x576 with 2 Axes>"
      ]
     },
     "metadata": {
      "needs_background": "light"
     },
     "output_type": "display_data"
    }
   ],
   "source": [
    "\n",
    "# creamos la figura (fig) y el epacio para los dos graficos (axes).\n",
    "fig, axes = plt.subplots(nrows=2,\n",
    "                        ncols=1,\n",
    "                        figsize=(18,8))\n",
    "# creamos el grafico superior de la figura. Un histograma con los datos de la columna 'salary_monthly_BRUTO'\n",
    "sns.histplot(data=df[salary_col],\n",
    "            bins=100,\n",
    "            ax=axes[0],\n",
    "            color='steelblue')\n",
    "\n",
    "# creamos una linea vertical en la posicion de la media\n",
    "axes[0].axvline(x=df[salary_col].mean(),\n",
    "               color = '#ffb14a',\n",
    "               linestyle = '--',\n",
    "               label = 'MEDIA')\n",
    "# creamos una linea vertical en la posicion de la mediana\n",
    "axes[0].axvline(x=df[salary_col].median(),\n",
    "               color = '#a80000',\n",
    "               linestyle = '-.',\n",
    "               label = 'MEDIANA')\n",
    "# incluimos la leyenda en el grafico de arriba\n",
    "axes[0].legend()\n",
    "\n",
    "# eliminamos el el label del eje x\n",
    "axes[0].set(xlabel=None)\n",
    "\n",
    "\n",
    "# en el grafico de abajo de la figura vamos a graficar un histograma de la misma columna pero eliminando \n",
    "# algunos datos extremos (los sueldos > 200000)\n",
    "\n",
    "#genero una nueva DF que solo tenga los salarios < 200000.\n",
    "\n",
    "filtered_df = df[df[salary_col] < 200000]\n",
    "\n",
    "# creamos el grafico inferior de la figura. Un histograma con los datos de la columna 'salary_monthly_BRUTO' menore a 200000\n",
    "sns.histplot(data=filtered_df[salary_col],\n",
    "            bins=100,\n",
    "            ax=axes[1],\n",
    "            color='steelblue')\n",
    "# creamos una linea vertical en la posicion de la media\n",
    "axes[1].axvline(x=filtered_df[salary_col].mean(),\n",
    "               color = '#ffb14a',\n",
    "               linestyle = '--',\n",
    "               label = 'MEDIA')\n",
    "# creamos una linea vertical en la posicion de la mediana\n",
    "axes[1].axvline(x=filtered_df[salary_col].median(),\n",
    "               color = '#a80000',\n",
    "               linestyle = '-.',\n",
    "               label = 'MEDIANA')\n",
    "axes[1].set(xlabel='Salario Mensual BRUTO')\n",
    "\n",
    "\n",
    "plt.savefig('Media Vs Median.png', bbox_inches='tight', facecolor='white', transparent=False)\n",
    "plt.show()"
   ]
  },
  {
   "cell_type": "markdown",
   "metadata": {
    "id": "Q1Kd1_g7NgJG"
   },
   "source": [
    "---\n",
    "## Medidas de dispersion"
   ]
  },
  {
   "cell_type": "code",
   "execution_count": 51,
   "metadata": {
    "colab": {
     "base_uri": "https://localhost:8080/"
    },
    "executionInfo": {
     "elapsed": 266,
     "status": "ok",
     "timestamp": 1649857660868,
     "user": {
      "displayName": "Nicolás Ambrosis",
      "userId": "13396483969458523992"
     },
     "user_tz": 180
    },
    "id": "jeoSCUhcNgJM",
    "outputId": "b0dded59-4ae5-4c92-e279-34d5964af744"
   },
   "outputs": [
    {
     "data": {
      "text/plain": [
       "work_province                                                                                          object\n",
       "work_contract_type                                                                                     object\n",
       "salary_monthly_BRUTO                                                                                  float64\n",
       "salary_monthly_NETO                                                                                   float64\n",
       "salary_in_usd                                                                                          object\n",
       "salary_last_dollar_value                                                                               object\n",
       "salary_satisfaction                                                                                     int64\n",
       "salary_comparison_last_semester                                                                         int64\n",
       "salary_has_bonus                                                                                       object\n",
       "salary_bonus_tied_to                                                                                   object\n",
       "salary_inflation_adjustment_2021                                                                       object\n",
       "salary_percentage_inflation_adjustment_2021                                                           float64\n",
       "salary_month_last_inflation_adjustment                                                                float64\n",
       "work_role                                                                                              object\n",
       "profile_years_experience                                                                              float64\n",
       "work_years_in_company                                                                                 float64\n",
       "work_years_in_current_position                                                                        float64\n",
       "work_people_in_charge_of                                                                                int64\n",
       "tools_platform                                                                                         object\n",
       "Lenguajes de programación o tecnologías.                                                               object\n",
       "tools_frameworks                                                                                       object\n",
       "tools_data_bases                                                                                       object\n",
       "tools_qa_testing                                                                                       object\n",
       "tools_IDEs                                                                                             object\n",
       "Cantidad de personas en tu organización                                                                object\n",
       "Trabajo para una empresa que no tiene oficina en mi ciudad                                             object\n",
       "company_main_activity                                                                                  object\n",
       "company_recommended                                                                                     int64\n",
       "company_extra_benefits                                                                                 object\n",
       "company_diversity_policies                                                                              int64\n",
       "¿Salir o seguir contestando?                                                                           object\n",
       "profile_studies_level                                                                                  object\n",
       "profile_studies_level_state                                                                            object\n",
       "profile_career                                                                                         object\n",
       "profile_university                                                                                     object\n",
       "profile_specialization_courses                                                                         object\n",
       "profile_open_source_contributions                                                                      object\n",
       "profile_programming_as_hobby                                                                           object\n",
       "¿Salir o seguir contestando?.1                                                                         object\n",
       "work_on_call_duty                                                                                      object\n",
       "salary_on_call_duty_charge                                                                            float64\n",
       "work_on_call_duty_charge_type                                                                          object\n",
       "¿Salir o seguir contestando?.2                                                                         object\n",
       "work_has_violence_situations                                                                           object\n",
       "¿Considerás que en tu empresa/organización hay una marcada tendencia a escuchar más a los hombres?     object\n",
       "work_yourself_in_your_work                                                                             object\n",
       "work_listen_more_men                                                                                   object\n",
       "profile_has_disabilities                                                                               object\n",
       "profile_has_disabilities_hiring_difficulties                                                           object\n",
       "work_lastyear_discrimination                                                                           object\n",
       "¿Salir o seguir contestando?.3                                                                         object\n",
       "company_days_in_the_office                                                                            float64\n",
       "company_pandemic_support                                                                              float64\n",
       "company_new_benefits                                                                                   object\n",
       "profile_age                                                                                             int64\n",
       "profile_gender                                                                                         object\n",
       "dtype: object"
      ]
     },
     "execution_count": 51,
     "metadata": {},
     "output_type": "execute_result"
    }
   ],
   "source": [
    "df.dtypes"
   ]
  },
  {
   "cell_type": "code",
   "execution_count": 52,
   "metadata": {
    "colab": {
     "base_uri": "https://localhost:8080/",
     "height": 300
    },
    "executionInfo": {
     "elapsed": 269,
     "status": "ok",
     "timestamp": 1649857662228,
     "user": {
      "displayName": "Nicolás Ambrosis",
      "userId": "13396483969458523992"
     },
     "user_tz": 180
    },
    "id": "4O_TOcR1NgJN",
    "outputId": "77d4f90c-300e-4f59-c3be-a077325337bf"
   },
   "outputs": [
    {
     "data": {
      "text/html": [
       "<div>\n",
       "<style scoped>\n",
       "    .dataframe tbody tr th:only-of-type {\n",
       "        vertical-align: middle;\n",
       "    }\n",
       "\n",
       "    .dataframe tbody tr th {\n",
       "        vertical-align: top;\n",
       "    }\n",
       "\n",
       "    .dataframe thead th {\n",
       "        text-align: right;\n",
       "    }\n",
       "</style>\n",
       "<table border=\"1\" class=\"dataframe\">\n",
       "  <thead>\n",
       "    <tr style=\"text-align: right;\">\n",
       "      <th></th>\n",
       "      <th>salary_monthly_BRUTO</th>\n",
       "      <th>salary_monthly_NETO</th>\n",
       "    </tr>\n",
       "  </thead>\n",
       "  <tbody>\n",
       "    <tr>\n",
       "      <th>count</th>\n",
       "      <td>5754.0</td>\n",
       "      <td>5514.0</td>\n",
       "    </tr>\n",
       "    <tr>\n",
       "      <th>mean</th>\n",
       "      <td>260454.0</td>\n",
       "      <td>203229.0</td>\n",
       "    </tr>\n",
       "    <tr>\n",
       "      <th>std</th>\n",
       "      <td>302084.0</td>\n",
       "      <td>269267.0</td>\n",
       "    </tr>\n",
       "    <tr>\n",
       "      <th>min</th>\n",
       "      <td>0.0</td>\n",
       "      <td>1.0</td>\n",
       "    </tr>\n",
       "    <tr>\n",
       "      <th>25%</th>\n",
       "      <td>115000.0</td>\n",
       "      <td>96000.0</td>\n",
       "    </tr>\n",
       "    <tr>\n",
       "      <th>50%</th>\n",
       "      <td>187750.0</td>\n",
       "      <td>150000.0</td>\n",
       "    </tr>\n",
       "    <tr>\n",
       "      <th>75%</th>\n",
       "      <td>300000.0</td>\n",
       "      <td>211000.0</td>\n",
       "    </tr>\n",
       "    <tr>\n",
       "      <th>max</th>\n",
       "      <td>8400000.0</td>\n",
       "      <td>10023000.0</td>\n",
       "    </tr>\n",
       "  </tbody>\n",
       "</table>\n",
       "</div>"
      ],
      "text/plain": [
       "       salary_monthly_BRUTO  salary_monthly_NETO\n",
       "count                5754.0               5514.0\n",
       "mean               260454.0             203229.0\n",
       "std                302084.0             269267.0\n",
       "min                     0.0                  1.0\n",
       "25%                115000.0              96000.0\n",
       "50%                187750.0             150000.0\n",
       "75%                300000.0             211000.0\n",
       "max               8400000.0           10023000.0"
      ]
     },
     "execution_count": 52,
     "metadata": {},
     "output_type": "execute_result"
    }
   ],
   "source": [
    "df[['salary_monthly_BRUTO','salary_monthly_NETO']].describe().round()"
   ]
  },
  {
   "cell_type": "code",
   "execution_count": 53,
   "metadata": {
    "colab": {
     "base_uri": "https://localhost:8080/",
     "height": 300
    },
    "executionInfo": {
     "elapsed": 392,
     "status": "ok",
     "timestamp": 1649857663671,
     "user": {
      "displayName": "Nicolás Ambrosis",
      "userId": "13396483969458523992"
     },
     "user_tz": 180
    },
    "id": "CejsbRlkNgJO",
    "outputId": "f77150c1-608b-497c-f4b3-98fbc555046d"
   },
   "outputs": [
    {
     "data": {
      "text/html": [
       "<div>\n",
       "<style scoped>\n",
       "    .dataframe tbody tr th:only-of-type {\n",
       "        vertical-align: middle;\n",
       "    }\n",
       "\n",
       "    .dataframe tbody tr th {\n",
       "        vertical-align: top;\n",
       "    }\n",
       "\n",
       "    .dataframe thead th {\n",
       "        text-align: right;\n",
       "    }\n",
       "</style>\n",
       "<table border=\"1\" class=\"dataframe\">\n",
       "  <thead>\n",
       "    <tr style=\"text-align: right;\">\n",
       "      <th></th>\n",
       "      <th>salary_monthly_BRUTO</th>\n",
       "      <th>salary_monthly_NETO</th>\n",
       "    </tr>\n",
       "  </thead>\n",
       "  <tbody>\n",
       "    <tr>\n",
       "      <th>count</th>\n",
       "      <td>5754.0</td>\n",
       "      <td>5514.0</td>\n",
       "    </tr>\n",
       "    <tr>\n",
       "      <th>mean</th>\n",
       "      <td>260454.0</td>\n",
       "      <td>203229.0</td>\n",
       "    </tr>\n",
       "    <tr>\n",
       "      <th>std</th>\n",
       "      <td>302084.0</td>\n",
       "      <td>269267.0</td>\n",
       "    </tr>\n",
       "    <tr>\n",
       "      <th>min</th>\n",
       "      <td>0.0</td>\n",
       "      <td>1.0</td>\n",
       "    </tr>\n",
       "    <tr>\n",
       "      <th>25%</th>\n",
       "      <td>115000.0</td>\n",
       "      <td>96000.0</td>\n",
       "    </tr>\n",
       "    <tr>\n",
       "      <th>50%</th>\n",
       "      <td>187750.0</td>\n",
       "      <td>150000.0</td>\n",
       "    </tr>\n",
       "    <tr>\n",
       "      <th>75%</th>\n",
       "      <td>300000.0</td>\n",
       "      <td>211000.0</td>\n",
       "    </tr>\n",
       "    <tr>\n",
       "      <th>max</th>\n",
       "      <td>8400000.0</td>\n",
       "      <td>10023000.0</td>\n",
       "    </tr>\n",
       "  </tbody>\n",
       "</table>\n",
       "</div>"
      ],
      "text/plain": [
       "       salary_monthly_BRUTO  salary_monthly_NETO\n",
       "count                5754.0               5514.0\n",
       "mean               260454.0             203229.0\n",
       "std                302084.0             269267.0\n",
       "min                     0.0                  1.0\n",
       "25%                115000.0              96000.0\n",
       "50%                187750.0             150000.0\n",
       "75%                300000.0             211000.0\n",
       "max               8400000.0           10023000.0"
      ]
     },
     "execution_count": 53,
     "metadata": {},
     "output_type": "execute_result"
    }
   ],
   "source": [
    "df[['salary_monthly_BRUTO', 'salary_monthly_NETO']].describe().round()\n",
    "\n",
    "#Notar que en este caso no puedo alicar la funcion que habia usado antes: .apply(lambda s: '{0:.2f}'.format(s))\n",
    "# porque esa funcion se aplica a DF. Aunque en aque caso tambien hubieramos podido usar la funcion .round()\n",
    "\n",
    "# notar que como era de suponerse el salario BRUTO es MAYOR que el NETO. El neto es el salario que recibe en el bolsillo el\n",
    "# trabajador despues de todos los descuentos que se relizan sobre el BRUTO."
   ]
  },
  {
   "cell_type": "code",
   "execution_count": 54,
   "metadata": {
    "colab": {
     "base_uri": "https://localhost:8080/",
     "height": 112
    },
    "executionInfo": {
     "elapsed": 271,
     "status": "ok",
     "timestamp": 1649857664830,
     "user": {
      "displayName": "Nicolás Ambrosis",
      "userId": "13396483969458523992"
     },
     "user_tz": 180
    },
    "id": "PNzn7S8PNgJP",
    "outputId": "dace5bf4-f935-4fa3-956e-fddc809bfb93"
   },
   "outputs": [
    {
     "data": {
      "text/html": [
       "<div>\n",
       "<style scoped>\n",
       "    .dataframe tbody tr th:only-of-type {\n",
       "        vertical-align: middle;\n",
       "    }\n",
       "\n",
       "    .dataframe tbody tr th {\n",
       "        vertical-align: top;\n",
       "    }\n",
       "\n",
       "    .dataframe thead th {\n",
       "        text-align: right;\n",
       "    }\n",
       "</style>\n",
       "<table border=\"1\" class=\"dataframe\">\n",
       "  <thead>\n",
       "    <tr style=\"text-align: right;\">\n",
       "      <th></th>\n",
       "      <th>salary_monthly_BRUTO</th>\n",
       "      <th>salary_monthly_NETO</th>\n",
       "    </tr>\n",
       "  </thead>\n",
       "  <tbody>\n",
       "    <tr>\n",
       "      <th>mean</th>\n",
       "      <td>260453.72</td>\n",
       "      <td>203228.82</td>\n",
       "    </tr>\n",
       "    <tr>\n",
       "      <th>std</th>\n",
       "      <td>302083.74</td>\n",
       "      <td>269267.21</td>\n",
       "    </tr>\n",
       "  </tbody>\n",
       "</table>\n",
       "</div>"
      ],
      "text/plain": [
       "      salary_monthly_BRUTO  salary_monthly_NETO\n",
       "mean             260453.72            203228.82\n",
       "std              302083.74            269267.21"
      ]
     },
     "execution_count": 54,
     "metadata": {},
     "output_type": "execute_result"
    }
   ],
   "source": [
    "df[['salary_monthly_BRUTO', 'salary_monthly_NETO']].describe().round(2).iloc[['1','2']]\n",
    "# es valido comparar la desviacion de dos variables que tienen diferente media? NO\n",
    "# para eso tenemos que usar el coeficiente de varacion (std dividida por la media)\n",
    "# si bien es sencillo de calcular, no hay en PANDAS una funcion para calculara"
   ]
  },
  {
   "cell_type": "code",
   "execution_count": 55,
   "metadata": {
    "colab": {
     "base_uri": "https://localhost:8080/"
    },
    "executionInfo": {
     "elapsed": 281,
     "status": "ok",
     "timestamp": 1649857666188,
     "user": {
      "displayName": "Nicolás Ambrosis",
      "userId": "13396483969458523992"
     },
     "user_tz": 180
    },
    "id": "rbc8fDvoNgJQ",
    "outputId": "51f19c42-5ea6-4771-f77e-5ca865fbc27d"
   },
   "outputs": [
    {
     "name": "stdout",
     "output_type": "stream",
     "text": [
      "Coeficiente de variacion salario BRUTO:1.1597357333012568\n",
      "Coeficiente de variacion salario NETO:nan\n"
     ]
    }
   ],
   "source": [
    "# podemos usar la libreria scipy\n",
    "import scipy\n",
    "\n",
    "print(f'Coeficiente de variacion salario BRUTO:{scipy.stats.variation(df.salary_monthly_BRUTO)}')\n",
    "print(f'Coeficiente de variacion salario NETO:{scipy.stats.variation(df.salary_monthly_NETO)}')\n",
    "\n",
    "# notar que el resultado para salrio NETO dio nan, esto debe ser porque debe haber entradas que no estan completadas en la\n",
    "# columna de salario NETO y esos nan se arrastran en el calculo del coeficiente de variacion.\n",
    "# notar que cuando aplicmos .describe() vimos que la culomna de BRUTO tenia mas datos que la columna de NETO"
   ]
  },
  {
   "cell_type": "code",
   "execution_count": 56,
   "metadata": {
    "colab": {
     "base_uri": "https://localhost:8080/"
    },
    "executionInfo": {
     "elapsed": 280,
     "status": "ok",
     "timestamp": 1649857670043,
     "user": {
      "displayName": "Nicolás Ambrosis",
      "userId": "13396483969458523992"
     },
     "user_tz": 180
    },
    "id": "jyAt2JhENgJR",
    "outputId": "89a32a08-2a40-4c60-fc17-9cc84a60b10e"
   },
   "outputs": [
    {
     "data": {
      "text/plain": [
       "0"
      ]
     },
     "execution_count": 56,
     "metadata": {},
     "output_type": "execute_result"
    }
   ],
   "source": [
    "df['salary_monthly_BRUTO'].isna().sum()"
   ]
  },
  {
   "cell_type": "code",
   "execution_count": 57,
   "metadata": {
    "colab": {
     "base_uri": "https://localhost:8080/"
    },
    "executionInfo": {
     "elapsed": 17,
     "status": "ok",
     "timestamp": 1649857670901,
     "user": {
      "displayName": "Nicolás Ambrosis",
      "userId": "13396483969458523992"
     },
     "user_tz": 180
    },
    "id": "JgnAY96UNgJS",
    "outputId": "d8778aa4-4c62-4622-f560-d4ee4c5ec202"
   },
   "outputs": [
    {
     "data": {
      "text/plain": [
       "240"
      ]
     },
     "execution_count": 57,
     "metadata": {},
     "output_type": "execute_result"
    }
   ],
   "source": [
    "df['salary_monthly_NETO'].isna().sum()\n",
    "# confirmamos que la columna de NETO tiene valores NaN. Vamos a tener que eliminar esas filas antes de calcular el\n",
    "# coeficiente de variacion"
   ]
  },
  {
   "cell_type": "code",
   "execution_count": 58,
   "metadata": {
    "colab": {
     "base_uri": "https://localhost:8080/"
    },
    "executionInfo": {
     "elapsed": 6,
     "status": "ok",
     "timestamp": 1649857671833,
     "user": {
      "displayName": "Nicolás Ambrosis",
      "userId": "13396483969458523992"
     },
     "user_tz": 180
    },
    "id": "i5K5CdrCNgJS",
    "outputId": "24288568-e574-40fa-c51f-d9bba69633e8"
   },
   "outputs": [
    {
     "name": "stdout",
     "output_type": "stream",
     "text": [
      "Coeficiente de variacion salario BRUTO:1.16\n",
      "Coeficiente de variacion salario NETO:1.32\n"
     ]
    }
   ],
   "source": [
    "print(f'Coeficiente de variacion salario BRUTO:{scipy.stats.variation(df.salary_monthly_BRUTO).round(2)}')\n",
    "print(f'Coeficiente de variacion salario NETO:{scipy.stats.variation(df.salary_monthly_NETO.dropna()).round(2)}')"
   ]
  },
  {
   "cell_type": "markdown",
   "metadata": {
    "id": "d9opadfRNgJT"
   },
   "source": [
    "---\n",
    "## Percentiles y Box Plots"
   ]
  },
  {
   "cell_type": "code",
   "execution_count": 59,
   "metadata": {
    "colab": {
     "base_uri": "https://localhost:8080/",
     "height": 301
    },
    "executionInfo": {
     "elapsed": 335,
     "status": "ok",
     "timestamp": 1649857675611,
     "user": {
      "displayName": "Nicolás Ambrosis",
      "userId": "13396483969458523992"
     },
     "user_tz": 180
    },
    "id": "PyvicXg8NgJT",
    "outputId": "c51f0d14-0cad-496d-f449-7cb32a4f162d"
   },
   "outputs": [
    {
     "data": {
      "image/png": "[encoded data removed]",
      "text/plain": [
       "<Figure size 864x288 with 1 Axes>"
      ]
     },
     "metadata": {
      "needs_background": "light"
     },
     "output_type": "display_data"
    }
   ],
   "source": [
    "fig = plt.figure(figsize = (12,4))\n",
    "\n",
    "sns.boxplot(x=df[salary_col], \n",
    "           color = '#a4ebb7')\n",
    "\n",
    "sns.despine()\n",
    "\n",
    "plt.show()\n"
   ]
  },
  {
   "cell_type": "markdown",
   "metadata": {
    "id": "rNZOoyYNNgJT"
   },
   "source": [
    "---\n",
    "## Violin plot"
   ]
  },
  {
   "cell_type": "code",
   "execution_count": 60,
   "metadata": {
    "colab": {
     "base_uri": "https://localhost:8080/",
     "height": 301
    },
    "executionInfo": {
     "elapsed": 323,
     "status": "ok",
     "timestamp": 1649857679145,
     "user": {
      "displayName": "Nicolás Ambrosis",
      "userId": "13396483969458523992"
     },
     "user_tz": 180
    },
    "id": "JkgUZGcMNgJT",
    "outputId": "87671426-47f9-424f-ba7b-0fe96c376f0f"
   },
   "outputs": [
    {
     "data": {
      "image/png": "[encoded data removed]",
      "text/plain": [
       "<Figure size 864x288 with 1 Axes>"
      ]
     },
     "metadata": {
      "needs_background": "light"
     },
     "output_type": "display_data"
    }
   ],
   "source": [
    "fig = plt.figure(figsize = (12,4))\n",
    "\n",
    "sns.violinplot(x=df[salary_col], \n",
    "           color = '#a4ebb7')\n",
    "\n",
    "sns.despine()\n",
    "\n",
    "plt.show()\n"
   ]
  },
  {
   "cell_type": "markdown",
   "metadata": {
    "id": "bIUr1wOFNgJU"
   },
   "source": [
    "---\n",
    "## Distplot\n",
    "This function is deprecated and will be removed in a future version of seborn."
   ]
  },
  {
   "cell_type": "code",
   "execution_count": 61,
   "metadata": {
    "colab": {
     "base_uri": "https://localhost:8080/",
     "height": 485
    },
    "executionInfo": {
     "elapsed": 769,
     "status": "ok",
     "timestamp": 1649857683168,
     "user": {
      "displayName": "Nicolás Ambrosis",
      "userId": "13396483969458523992"
     },
     "user_tz": 180
    },
    "id": "DjsUueG0NgJU",
    "outputId": "03b0f063-ba4a-46a5-d6bc-6d5015ff40b8"
   },
   "outputs": [
    {
     "name": "stderr",
     "output_type": "stream",
     "text": [
      "c:\\users\\nico.-\\appdata\\local\\programs\\python\\python38\\lib\\site-packages\\seaborn\\distributions.py:2551: FutureWarning: `distplot` is a deprecated function and will be removed in a future version. Please adapt your code to use either `displot` (a figure-level function with similar flexibility) or `histplot` (an axes-level function for histograms).\n",
      "  warnings.warn(msg, FutureWarning)\n"
     ]
    },
    {
     "data": {
      "image/png": "[encoded data removed]",
      "text/plain": [
       "<Figure size 432x432 with 1 Axes>"
      ]
     },
     "metadata": {
      "needs_background": "light"
     },
     "output_type": "display_data"
    }
   ],
   "source": [
    "fig = plt.figure(figsize=(6,6))\n",
    "sns.distplot(df[df.profile_age < 100].profile_age)\n",
    "\n",
    "plt.title('DistPlot')\n",
    "sns.despine()\n",
    "\n",
    "\n",
    "\n",
    "plt.savefig('DistPlot.png', bbox_inches='tight', facecolor='white', transparent=False)\n",
    "plt.show()"
   ]
  },
  {
   "cell_type": "markdown",
   "metadata": {
    "id": "_941F9CBNgJU"
   },
   "source": [
    "---\n"
   ]
  },
  {
   "cell_type": "code",
   "execution_count": 62,
   "metadata": {
    "colab": {
     "base_uri": "https://localhost:8080/",
     "height": 410
    },
    "executionInfo": {
     "elapsed": 917,
     "status": "ok",
     "timestamp": 1649857686924,
     "user": {
      "displayName": "Nicolás Ambrosis",
      "userId": "13396483969458523992"
     },
     "user_tz": 180
    },
    "id": "APXh984-NgJU",
    "outputId": "e4852f66-7419-42bc-a1df-ac5a8444614b"
   },
   "outputs": [
    {
     "data": {
      "image/png": "[encoded data removed]",
      "text/plain": [
       "<Figure size 864x432 with 1 Axes>"
      ]
     },
     "metadata": {
      "needs_background": "light"
     },
     "output_type": "display_data"
    }
   ],
   "source": [
    "fig = plt.figure(figsize=(12,6))\n",
    "\n",
    "sns.boxplot(data = df,\n",
    "                x = salary_col,\n",
    "                y = 'profile_studies_level',\n",
    "                color = '#77d1e6',\n",
    "                flierprops = dict(marker='o')            \n",
    "               )\n",
    "\n",
    "plt.ticklabel_format(style = 'plain',\n",
    "                     axis = 'x'\n",
    "                    )\n",
    "plt.xlabel('Salario Bruto')\n",
    "plt.ylabel('Nivel de estudios')\n",
    "\n",
    "plt.show()"
   ]
  },
  {
   "cell_type": "markdown",
   "metadata": {
    "id": "vClJbEvLNgJV"
   },
   "source": [
    "---\n",
    "## BoxenPlots"
   ]
  },
  {
   "cell_type": "code",
   "execution_count": 63,
   "metadata": {
    "colab": {
     "base_uri": "https://localhost:8080/",
     "height": 410
    },
    "executionInfo": {
     "elapsed": 922,
     "status": "ok",
     "timestamp": 1649857689534,
     "user": {
      "displayName": "Nicolás Ambrosis",
      "userId": "13396483969458523992"
     },
     "user_tz": 180
    },
    "id": "htooC9skNgJV",
    "outputId": "8d63a210-c8dd-4347-e19f-5eaa1f808681"
   },
   "outputs": [
    {
     "data": {
      "image/png": "[encoded data removed]",
      "text/plain": [
       "<Figure size 864x432 with 1 Axes>"
      ]
     },
     "metadata": {
      "needs_background": "light"
     },
     "output_type": "display_data"
    }
   ],
   "source": [
    "fig = plt.figure(figsize=(12,6))\n",
    "sns.boxenplot(data = df,\n",
    "             x = salary_col,\n",
    "             y = 'profile_studies_level',\n",
    "             color = '#77d1e6')\n",
    "\n",
    "plt.ticklabel_format(style='plain', axis='x')\n",
    "plt.xlabel('Salario Bruto')\n",
    "plt.ylabel('Nivel de estudios')\n",
    "\n",
    "plt.show()\n",
    "\n",
    "# plt.figure(figsize=(12, 6))\n",
    "# seaborn.boxenplot(data=df, x=salary_col, y='profile_studies_level',\n",
    "#                 color='orangered')\n",
    "# plt.ticklabel_format(style='plain', axis='x')"
   ]
  },
  {
   "cell_type": "markdown",
   "metadata": {
    "id": "3cmxZwV6NgJV"
   },
   "source": [
    "---\n",
    "## Eliminacion de valores extremos\n",
    "### Usando percentiles \n",
    "\n",
    "Una forma conservadora de eliminar valores extremos que estén afectando a la media, el rango y las visualizaciones es seleccionar un cierto porcentaje más extremo. Para eso, usamos los percentiles.\n",
    "\n",
    "Por ejemplo, podemos elegir quedarnos con el 99% de salarios más bajos, eliminando el 1%. Podemos calcular todos los percentiles para decidir cuál sería el más apropiado."
   ]
  },
  {
   "cell_type": "code",
   "execution_count": 64,
   "metadata": {
    "colab": {
     "base_uri": "https://localhost:8080/"
    },
    "executionInfo": {
     "elapsed": 273,
     "status": "ok",
     "timestamp": 1649857691714,
     "user": {
      "displayName": "Nicolás Ambrosis",
      "userId": "13396483969458523992"
     },
     "user_tz": 180
    },
    "id": "j6vCDIck-gID",
    "outputId": "b14ab44d-dc99-4ff8-c366-7766fd086349"
   },
   "outputs": [
    {
     "name": "stdout",
     "output_type": "stream",
     "text": [
      "Percentil 90 de la columna salary_monthly_BRUTO: 500000.0\n",
      "% de datos menores que percentil 90: 0.9\n",
      "% de datos mayores que percentil 90: 0.09 \n"
     ]
    }
   ],
   "source": [
    "k = 90\n",
    "percentile_90 = df[salary_col].quantile(k / 100)\n",
    "n_below = len(df[df[salary_col] < percentile_90])\n",
    "n_above = len(df[df[salary_col] > percentile_90])\n",
    "print(f'Percentil {k} de la columna {salary_col}: {percentile_90}')\n",
    "\n",
    "print(f'% de datos menores que percentil {k}: {round(n_below / len(df),2)}')\n",
    "print(f'% de datos mayores que percentil {k}: {round(n_above / len(df),2)} ')"
   ]
  },
  {
   "cell_type": "code",
   "execution_count": 65,
   "metadata": {
    "colab": {
     "base_uri": "https://localhost:8080/"
    },
    "executionInfo": {
     "elapsed": 283,
     "status": "ok",
     "timestamp": 1649857693419,
     "user": {
      "displayName": "Nicolás Ambrosis",
      "userId": "13396483969458523992"
     },
     "user_tz": 180
    },
    "id": "Bh_7hPDNBo0D",
    "outputId": "e006755e-88e8-4653-80b9-a5ea1145a8b9"
   },
   "outputs": [
    {
     "data": {
      "text/plain": [
       "0.950     750000.0\n",
       "0.980    1100000.0\n",
       "0.990    1409964.0\n",
       "0.995    1800000.0\n",
       "0.998    2274100.0\n",
       "Name: salary_monthly_BRUTO, dtype: float64"
      ]
     },
     "execution_count": 65,
     "metadata": {},
     "output_type": "execute_result"
    }
   ],
   "source": [
    "df[salary_col].quantile([.95, .98, .99, .995, .998])"
   ]
  },
  {
   "cell_type": "markdown",
   "metadata": {
    "id": "7YsoB-urENgg"
   },
   "source": [
    "### Usando rangos"
   ]
  },
  {
   "cell_type": "markdown",
   "metadata": {
    "id": "L1PKr3zaNmiG"
   },
   "source": [
    "I) Basado en percentiles"
   ]
  },
  {
   "cell_type": "code",
   "execution_count": 66,
   "metadata": {
    "id": "4b4nUnF4EP2K"
   },
   "outputs": [],
   "source": [
    "def clean_outliers_q3(dataset, column_name):\n",
    "    \"\"\"Returns dataset removing the outlier rows from column @column_name.\"\"\"\n",
    "    interesting_col = dataset[column_name]\n",
    "    # Here we can remove the outliers from both ends, or even add more restrictions.\n",
    "    mask_outlier = (interesting_col <= (2.5 * interesting_col.quantile(.75)))\n",
    "    return dataset[mask_outlier]"
   ]
  },
  {
   "cell_type": "code",
   "execution_count": 67,
   "metadata": {
    "id": "4xI8YQPNKNWw"
   },
   "outputs": [],
   "source": [
    "data = clean_outliers_q3(df, salary_col)[salary_col]"
   ]
  },
  {
   "cell_type": "code",
   "execution_count": 68,
   "metadata": {
    "colab": {
     "base_uri": "https://localhost:8080/",
     "height": 234
    },
    "executionInfo": {
     "elapsed": 13,
     "status": "error",
     "timestamp": 1649878411874,
     "user": {
      "displayName": "Nicolás Ambrosis",
      "userId": "13396483969458523992"
     },
     "user_tz": 180
    },
    "id": "95fdA_2GETcV",
    "outputId": "bace08e7-910d-4c0a-d647-5eeb42a5a660"
   },
   "outputs": [
    {
     "data": {
      "image/png": "[encoded data removed]",
      "text/plain": [
       "<Figure size 864x432 with 1 Axes>"
      ]
     },
     "metadata": {
      "needs_background": "light"
     },
     "output_type": "display_data"
    }
   ],
   "source": [
    "fig = plt.figure(figsize = (12,6))\n",
    "\n",
    "# definimos el estilo del grafico\n",
    "sns.histplot(x = data)\n",
    "\n",
    "\n",
    "\n",
    "# definimos los titulos de la figura y de los ejes\n",
    "plt.title('HistPlot without otliers-I')\n",
    "plt.xlabel('Monthly Salary')\n",
    "plt.ylabel('Count')\n",
    "\n",
    "# incorporamos una grilla al grafico\n",
    "plt.grid(color = '#c4c4c4',\n",
    "         linewidth = 0.5)\n",
    "\n",
    "# eliminamos las lineas superior y de los costados que delimitan el grafico\n",
    "sns.despine(top=True, right=True, left=True)\n",
    "\n",
    "# a los ticks del eje y les ponemos el mismo color que a la grilla\n",
    "plt.tick_params(color='#c4c4c4')\n",
    "\n",
    "\n",
    "\n",
    "plt.savefig('HistPlot without otliers-I', bbox_inches='tight', facecolor='white', transparent=False)\n",
    "plt.show()\n",
    "\n"
   ]
  },
  {
   "cell_type": "markdown",
   "metadata": {
    "id": "0v9RHd_jNwBQ"
   },
   "source": [
    "II) Basado en desviacion estandar"
   ]
  },
  {
   "cell_type": "code",
   "execution_count": 69,
   "metadata": {
    "id": "JUTe3QEcNzmy"
   },
   "outputs": [],
   "source": [
    "def clean_outliers_sd(dataset, column_name):\n",
    "    \"\"\"Returns dataset removing the outlier rows from column @column_name.\"\"\"\n",
    "    interesting_col = dataset[column_name]\n",
    "    # Here we can remove the outliers from both ends, or even add more restrictions.\n",
    "    mask_outlier = (\n",
    "        np.abs(interesting_col - interesting_col.mean()) <=\n",
    "        (2.5 * interesting_col.std()))\n",
    "    return dataset[mask_outlier]"
   ]
  },
  {
   "cell_type": "code",
   "execution_count": 70,
   "metadata": {
    "id": "eatiz_ywN36h"
   },
   "outputs": [],
   "source": [
    "data_2 = clean_outliers_sd(df, salary_col)[salary_col]"
   ]
  },
  {
   "cell_type": "code",
   "execution_count": 71,
   "metadata": {
    "colab": {
     "base_uri": "https://localhost:8080/",
     "height": 430
    },
    "executionInfo": {
     "elapsed": 1174,
     "status": "ok",
     "timestamp": 1649858412667,
     "user": {
      "displayName": "Nicolás Ambrosis",
      "userId": "13396483969458523992"
     },
     "user_tz": 180
    },
    "id": "cT7ZhcCIOOaL",
    "outputId": "776aaca4-551f-4eba-c334-8bb16b8cb631"
   },
   "outputs": [
    {
     "data": {
      "image/png": "[encoded data removed]",
      "text/plain": [
       "<Figure size 864x432 with 1 Axes>"
      ]
     },
     "metadata": {
      "needs_background": "light"
     },
     "output_type": "display_data"
    }
   ],
   "source": [
    "fig_2 = plt.figure(figsize = (12,6))\n",
    "\n",
    "# definimos el estilo del grafico\n",
    "sns.histplot(x = data_2)\n",
    "\n",
    "\n",
    "\n",
    "# definimos los titulos de la figura y de los ejes\n",
    "plt.title('HistPlot without otliers-II')\n",
    "plt.xlabel('Monthly Salary')\n",
    "plt.ylabel('Count')\n",
    "\n",
    "# incorporamos una grilla al grafico\n",
    "plt.grid(color = '#c4c4c4')\n",
    "\n",
    "# eliminamos las lineas superior y de los costados que delimitan el grafico\n",
    "sns.despine(top=True, right=True, left=True)\n",
    "\n",
    "# a los ticks del eje y les ponemos el mismo color que a la grilla\n",
    "plt.tick_params(color='#c4c4c4')\n",
    "\n",
    "\n",
    "\n",
    "plt.savefig('HistPlot without otliers-II', bbox_inches='tight', facecolor='white', transparent=False)\n",
    "plt.show()"
   ]
  },
  {
   "cell_type": "code",
   "execution_count": null,
   "metadata": {
    "id": "q0_hjecfOFDp"
   },
   "outputs": [],
   "source": []
  }
 ],
 "metadata": {
  "colab": {
   "collapsed_sections": [],
   "name": "NMA 02 Datos y Modelos.ipynb",
   "provenance": []
  },
  "kernelspec": {
   "display_name": "Python 3",
   "language": "python",
   "name": "python3"
  },
  "language_info": {
   "codemirror_mode": {
    "name": "ipython",
    "version": 3
   },
   "file_extension": ".py",
   "mimetype": "text/x-python",
   "name": "python",
   "nbconvert_exporter": "python",
   "pygments_lexer": "ipython3",
   "version": "3.8.6"
  }
 },
 "nbformat": 4,
 "nbformat_minor": 1
}
